{
 "cells": [
  {
   "cell_type": "code",
   "execution_count": 2,
   "id": "71426a30",
   "metadata": {
    "id": "71426a30"
   },
   "outputs": [],
   "source": [
    "from temp import *"
   ]
  },
  {
   "cell_type": "code",
   "execution_count": 12,
   "id": "65b42b83",
   "metadata": {
    "id": "65b42b83"
   },
   "outputs": [],
   "source": [
    "class Generator(nn.Module):\n",
    "    def __init__(self,z_dim,y_dim,h_dim):\n",
    "        super(Generator,self).__init__()\n",
    "        \n",
    "        self.layer = nn.Sequential(\n",
    "            nn.Linear(z_dim + y_dim, h_dim*4),\n",
    "            Unflatten(C=h_dim, W=2, H=2),\n",
    "            *block_t(h_dim,h_dim//2),\n",
    "            *block_t(h_dim//2,h_dim//4),\n",
    "            *block_t(h_dim//4,h_dim//8),\n",
    "            *block_t(h_dim//8,1,nn.Sigmoid())\n",
    "        )\n",
    "        \n",
    "        initialize_weights(self)\n",
    "    \n",
    "    def forward(self,z,y):\n",
    "        return self.layer(T.cat([z,y],1))\n",
    "    \n",
    "class Encoder(nn.Module):\n",
    "    def __init__(self,z_dim,y_dim,h_dim):\n",
    "        super(Encoder,self).__init__()\n",
    "\n",
    "        self.z_dim = z_dim\n",
    "        \n",
    "        self.layer = nn.Sequential(\n",
    "            *block(1,h_dim//8),#32>16\n",
    "            *block(h_dim//8,h_dim//4),#16>8\n",
    "            *block(h_dim//4,h_dim//2),#8>4\n",
    "            *block(h_dim//2,h_dim),#4>2\n",
    "            Flatten(),\n",
    "        )\n",
    "        self.fc_layer = nn.Sequential(\n",
    "            nn.Linear(h_dim*4+y_dim, h_dim*2),\n",
    "            nn.ReLU(),\n",
    "            nn.Linear(h_dim*2,z_dim*2),\n",
    "        )\n",
    "        \n",
    "        initialize_weights(self)\n",
    "        \n",
    "    def reparametrize(self,mu,scale):\n",
    "        eps = T.randn_like(T.exp(scale))\n",
    "        z = mu + eps * T.exp(scale/2)\n",
    "        return z\n",
    "\n",
    "    def forward(self,x,y):\n",
    "        h = self.layer(x)\n",
    "        h = self.fc_layer(T.cat([h,y],1))\n",
    "        mu = h[:,:self.z_dim]\n",
    "        scale = h[:,self.z_dim:]\n",
    "        kl = - 0.5* T.sum(1 + scale - mu.pow(2) - scale.exp())/T.numel(mu)\n",
    "        return self.reparametrize(mu,scale), kl\n",
    "    \n",
    "class TC_discriminator(nn.Module):\n",
    "    def __init__(self,z_dim):\n",
    "        super(TC_discriminator,self).__init__()\n",
    "        \n",
    "        self.layer = nn.Sequential(\n",
    "            nn.Linear(z_dim, 512),\n",
    "            nn.LeakyReLU(0.2,True),\n",
    "            nn.Linear(512, 256),\n",
    "            nn.LeakyReLU(0.2,True),\n",
    "            nn.Linear(256, 1),\n",
    "            nn.Sigmoid()\n",
    "        )\n",
    "        \n",
    "        initialize_weights(self)\n",
    "        \n",
    "    def forward(self,z):\n",
    "        d = self.layer(z)\n",
    "        return d\n",
    "        \n",
    "    def g_loss(self,z):\n",
    "        ones = T.ones(z.shape[0],1)\n",
    "        zeros = T.zeros(z.shape[0],1)\n",
    "        d_r = self.layer(z)\n",
    "        loss = -F.binary_cross_entropy(d_r,ones) + F.binary_cross_entropy(d_r,zeros)\n",
    "        return loss\n",
    "    \n",
    "    def d_loss(self,z):\n",
    "        z_shf = z[:,T.randperm(z.shape[1])]\n",
    "        ones = T.ones(z.shape[0],1)\n",
    "        zeros = T.zeros(z.shape[0],1)\n",
    "        d_r = self.layer(z)\n",
    "        d_shf = self.layer(z_shf)\n",
    "        loss = F.binary_cross_entropy(d_r,ones) + F.binary_cross_entropy(d_shf,zeros)\n",
    "        return loss\n",
    "\n",
    "class Discriminator(nn.Module):\n",
    "    def __init__(self,h_dim):\n",
    "        super(Discriminator,self).__init__()\n",
    "\n",
    "        self.layer = nn.Sequential(\n",
    "            *block(1,h_dim//8,nn.LeakyReLU(0.2)),#32>16\n",
    "            *block(h_dim//8,h_dim//4,nn.LeakyReLU(0.2)),#16>8\n",
    "            *block(h_dim//4,h_dim//2,nn.LeakyReLU(0.2)),#8>4\n",
    "            *block(h_dim//2,h_dim,nn.LeakyReLU(0.2)),#4>2\n",
    "            Flatten(),\n",
    "            nn.Linear(h_dim*4, 1),\n",
    "            nn.Sigmoid()\n",
    "        )\n",
    "        \n",
    "        initialize_weights(self)\n",
    "\n",
    "    def forward(self,x):\n",
    "        return self.layer(x)\n",
    "\n",
    "class FactorVAE_GlyphGAN(nn.Module):\n",
    "    def __init__(self,E,G,D,TC,GP):\n",
    "        super(FactorVAE_GlyphGAN,self).__init__()\n",
    "        \n",
    "        self.z_dim = E.z_dim\n",
    "        self.E = E\n",
    "        self.G = G\n",
    "        self.D = D\n",
    "        self.TC = TC\n",
    "        self.GP = GP\n",
    "        \n",
    "    def forward(self,x,y):\n",
    "        z, kl = self.E(x,y)\n",
    "        x_f = self.G(z,y)\n",
    "        return x_f\n",
    "        \n",
    "    def generate_random(self,y):\n",
    "        z = T.randn(y.shape[0],self.z_dim)\n",
    "        x = self.G(z,y)\n",
    "        return x\n",
    "    \n",
    "    def calc_gp(self,x, x_p):\n",
    "        alpha = T.rand(x.shape[0], 1, 1, 1).expand_as(x)\n",
    "\n",
    "        ip = (alpha * x.data + (1 - alpha) * x_p.data)\n",
    "        ip.requires_grad = True\n",
    "\n",
    "        prob_ip = self.D(ip)\n",
    "\n",
    "        grad = T.autograd.grad(outputs=prob_ip,\n",
    "                               inputs=ip,\n",
    "                               grad_outputs=T.ones(\n",
    "                                   prob_ip.size()),\n",
    "                               create_graph=True,\n",
    "                               retain_graph=True)[0].view(x.shape[0],-1)\n",
    "\n",
    "        grad_norm = T.sqrt(T.sum(grad ** 2, dim=1) + 1e-12)\n",
    "        return self.GP * ((grad_norm - 1) ** 2).mean()\n",
    "    \n",
    "    def d_loss(self,x,y):\n",
    "        x_p = self.generate_random(y).detach()\n",
    "        z,kl = self.E(x,y)\n",
    "        \n",
    "        d_p = self.D(x_p).mean()\n",
    "        d_r = self.D(x).mean()\n",
    "        GP = self.calc_gp(x,x_p)\n",
    "        d_tc = self.TC.d_loss(z)\n",
    "        return {'d_p':d_p,'d_r':d_r,'GP':GP,'d_tc':d_tc}\n",
    "    \n",
    "    def g_loss(self,x,y):\n",
    "        z, kl = self.E(x,y)\n",
    "        x_f = self.G(z,y)\n",
    "        x_p = self.generate_random(y)\n",
    "        \n",
    "        recon = (x - x_f).pow(2).mean()\n",
    "        d_p = self.D(x_p).mean()\n",
    "        g_tc = self.TC.g_loss(z)\n",
    "        \n",
    "        return {'kl':kl,'recon':recon,'d_p':d_p,'g_tc':g_tc}\n"
   ]
  },
  {
   "cell_type": "code",
   "execution_count": 4,
   "id": "c0b4c631",
   "metadata": {},
   "outputs": [],
   "source": [
    "def train_test(model,opt,loaders,writer,epoch,mode):\n",
    "    loss = {i: T.tensor(0.) for i in losses}\n",
    "    cnt = 0\n",
    "    div = 0\n",
    "    for loader in tqdm(loaders):\n",
    "        for x,y in loader:\n",
    "            cnt += 1\n",
    "            x = x.to(device)\n",
    "            y = y.to(device)\n",
    "            \n",
    "            ret = model.d_loss(x,y)\n",
    "            d_loss = ret['d_p'] - ret['d_r'] + ret['GP'] + ret['d_tc']\n",
    "            \n",
    "            if mode == 'train':\n",
    "                opt['D'].zero_grad()\n",
    "                d_loss.backward()\n",
    "                opt['D'].step()\n",
    "\n",
    "            for i in ret.keys():\n",
    "                loss[i] += ret[i]\n",
    "\n",
    "            if cnt % n_disc == 0:\n",
    "                div += 1\n",
    "                ret = model.g_loss(x,y)\n",
    "                g_loss = ret['kl'] + 5*ret['recon'] - ret['d_p'] + ret['g_tc']\n",
    "                if mode == 'train':\n",
    "                    opt['E'].zero_grad()\n",
    "                    opt['G'].zero_grad()\n",
    "                    g_loss.backward()\n",
    "                    opt['E'].step()                    \n",
    "                    opt['G'].step()\n",
    "    \n",
    "                for i in ret.keys():\n",
    "                    if i != 'd_p':\n",
    "                        loss[i] += ret[i]\n",
    "    \n",
    "    for i in loss.keys():\n",
    "        if i == 'kl' or i == 'recon':\n",
    "            loss[i] /= div\n",
    "        else:\n",
    "            loss[i] /= cnt\n",
    "    upload(writer,loss,epoch,mode)\n",
    "    \n",
    "    return loss"
   ]
  },
  {
   "cell_type": "code",
   "execution_count": 5,
   "id": "ccc733ca",
   "metadata": {},
   "outputs": [],
   "source": [
    "root = #学習データの保存場所\n",
    "models = #学習モデルの保存場所\n",
    "\n",
    "name = 'FactorFactorVAE_GlyphGAN'\n",
    "batch_size = 128\n",
    "epochs = 200\n",
    "\n",
    "seed = 1\n",
    "T.manual_seed(seed)\n",
    "\n",
    "writer = Writer(name)\n",
    "\n",
    "y_dim = 26\n",
    "z_dim = 100\n",
    "h_dim = 128\n",
    "n_disc = 5\n",
    "GP_weight = 10\n",
    "losses = ['kl','recon','d_p','d_r','GP','g_tc','d_tc']\n",
    "\n",
    "if T.cuda.is_available():\n",
    "    device = \"cuda\"\n",
    "else:\n",
    "    device = \"cpu\""
   ]
  },
  {
   "cell_type": "code",
   "execution_count": 6,
   "id": "8819ebc3",
   "metadata": {},
   "outputs": [],
   "source": [
    "train_loaders, test_loaders = get_loaders(root,y_dim,batch_size)"
   ]
  },
  {
   "cell_type": "code",
   "execution_count": 13,
   "id": "6f7add76",
   "metadata": {
    "colab": {
     "base_uri": "https://localhost:8080/",
     "height": 55
    },
    "id": "6f7add76",
    "outputId": "00f7e42a-ad12-4b26-f061-22e06af9e655"
   },
   "outputs": [],
   "source": [
    "E = Encoder(z_dim,y_dim,h_dim).to(device)\n",
    "G = Generator(z_dim,y_dim,h_dim).to(device)\n",
    "D = Discriminator(h_dim).to(device)\n",
    "TC = TC_discriminator(z_dim).to(device)\n",
    "model = FactorVAE_GlyphGAN(E,G,D,TC,GP_weight)\n",
    "opt = {}\n",
    "opt['E'] = optim.Adam(E.parameters(),lr=2e-4,betas=(0.5,0.99))\n",
    "opt['G'] = optim.Adam(G.parameters(),lr=2e-4,betas=(0.5,0.99))\n",
    "opt['D'] = optim.Adam(D.parameters(),lr=2e-4,betas=(0.5,0.99))"
   ]
  },
  {
   "cell_type": "code",
   "execution_count": null,
   "id": "60d295e0",
   "metadata": {},
   "outputs": [],
   "source": [
    "label = T.zeros(64).to(T.int64).to(device)\n",
    "label = F.one_hot(label, y_dim)\n",
    "z_sample = T.randn(64,z_dim)\n",
    "sample = G(z_sample,label)"
   ]
  },
  {
   "cell_type": "code",
   "execution_count": 15,
   "id": "682133da",
   "metadata": {
    "colab": {
     "base_uri": "https://localhost:8080/",
     "height": 375
    },
    "id": "682133da",
    "outputId": "302e83cb-4971-44a9-ac63-f0da268368a6",
    "scrolled": true
   },
   "outputs": [
    {
     "name": "stdout",
     "output_type": "stream",
     "text": [
      "Epoch 201\n"
     ]
    },
    {
     "name": "stderr",
     "output_type": "stream",
     "text": [
      "100%|███████████████████████████████████████████| 26/26 [21:15<00:00, 49.06s/it]\n",
      "100%|███████████████████████████████████████████| 26/26 [00:56<00:00,  2.18s/it]\n"
     ]
    },
    {
     "name": "stdout",
     "output_type": "stream",
     "text": [
      "Epoch 202\n"
     ]
    },
    {
     "name": "stderr",
     "output_type": "stream",
     "text": [
      "100%|███████████████████████████████████████████| 26/26 [22:41<00:00, 52.35s/it]\n",
      "100%|███████████████████████████████████████████| 26/26 [00:56<00:00,  2.16s/it]\n"
     ]
    },
    {
     "name": "stdout",
     "output_type": "stream",
     "text": [
      "Epoch 203\n"
     ]
    },
    {
     "name": "stderr",
     "output_type": "stream",
     "text": [
      "100%|███████████████████████████████████████████| 26/26 [22:38<00:00, 52.27s/it]\n",
      "100%|███████████████████████████████████████████| 26/26 [00:56<00:00,  2.16s/it]\n"
     ]
    },
    {
     "name": "stdout",
     "output_type": "stream",
     "text": [
      "Epoch 204\n"
     ]
    },
    {
     "name": "stderr",
     "output_type": "stream",
     "text": [
      "100%|███████████████████████████████████████████| 26/26 [22:52<00:00, 52.77s/it]\n",
      "100%|███████████████████████████████████████████| 26/26 [00:56<00:00,  2.15s/it]\n"
     ]
    },
    {
     "name": "stdout",
     "output_type": "stream",
     "text": [
      "Epoch 205\n"
     ]
    },
    {
     "name": "stderr",
     "output_type": "stream",
     "text": [
      "100%|███████████████████████████████████████████| 26/26 [22:50<00:00, 52.72s/it]\n",
      "100%|███████████████████████████████████████████| 26/26 [00:56<00:00,  2.17s/it]\n"
     ]
    },
    {
     "name": "stdout",
     "output_type": "stream",
     "text": [
      "Epoch 206\n"
     ]
    },
    {
     "name": "stderr",
     "output_type": "stream",
     "text": [
      "100%|███████████████████████████████████████████| 26/26 [22:48<00:00, 52.65s/it]\n",
      "100%|███████████████████████████████████████████| 26/26 [00:56<00:00,  2.17s/it]\n"
     ]
    },
    {
     "name": "stdout",
     "output_type": "stream",
     "text": [
      "Epoch 207\n"
     ]
    },
    {
     "name": "stderr",
     "output_type": "stream",
     "text": [
      "100%|███████████████████████████████████████████| 26/26 [22:51<00:00, 52.77s/it]\n",
      "100%|███████████████████████████████████████████| 26/26 [00:56<00:00,  2.17s/it]\n"
     ]
    },
    {
     "name": "stdout",
     "output_type": "stream",
     "text": [
      "Epoch 208\n"
     ]
    },
    {
     "name": "stderr",
     "output_type": "stream",
     "text": [
      "100%|███████████████████████████████████████████| 26/26 [22:51<00:00, 52.76s/it]\n",
      "100%|███████████████████████████████████████████| 26/26 [00:56<00:00,  2.17s/it]\n"
     ]
    },
    {
     "name": "stdout",
     "output_type": "stream",
     "text": [
      "Epoch 209\n"
     ]
    },
    {
     "name": "stderr",
     "output_type": "stream",
     "text": [
      "100%|███████████████████████████████████████████| 26/26 [22:53<00:00, 52.84s/it]\n",
      "100%|███████████████████████████████████████████| 26/26 [00:56<00:00,  2.18s/it]\n"
     ]
    },
    {
     "name": "stdout",
     "output_type": "stream",
     "text": [
      "Epoch 210\n"
     ]
    },
    {
     "name": "stderr",
     "output_type": "stream",
     "text": [
      "100%|███████████████████████████████████████████| 26/26 [22:52<00:00, 52.79s/it]\n",
      "100%|███████████████████████████████████████████| 26/26 [00:56<00:00,  2.19s/it]\n"
     ]
    },
    {
     "name": "stdout",
     "output_type": "stream",
     "text": [
      "Epoch 211\n"
     ]
    },
    {
     "name": "stderr",
     "output_type": "stream",
     "text": [
      "100%|███████████████████████████████████████████| 26/26 [22:44<00:00, 52.49s/it]\n",
      "100%|███████████████████████████████████████████| 26/26 [00:55<00:00,  2.15s/it]\n"
     ]
    },
    {
     "name": "stdout",
     "output_type": "stream",
     "text": [
      "Epoch 212\n"
     ]
    },
    {
     "name": "stderr",
     "output_type": "stream",
     "text": [
      "100%|███████████████████████████████████████████| 26/26 [22:48<00:00, 52.62s/it]\n",
      "100%|███████████████████████████████████████████| 26/26 [00:56<00:00,  2.17s/it]\n"
     ]
    },
    {
     "name": "stdout",
     "output_type": "stream",
     "text": [
      "Epoch 213\n"
     ]
    },
    {
     "name": "stderr",
     "output_type": "stream",
     "text": [
      "100%|███████████████████████████████████████████| 26/26 [22:55<00:00, 52.90s/it]\n",
      "100%|███████████████████████████████████████████| 26/26 [00:56<00:00,  2.17s/it]\n"
     ]
    },
    {
     "name": "stdout",
     "output_type": "stream",
     "text": [
      "Epoch 214\n"
     ]
    },
    {
     "name": "stderr",
     "output_type": "stream",
     "text": [
      "100%|███████████████████████████████████████████| 26/26 [22:57<00:00, 52.97s/it]\n",
      "100%|███████████████████████████████████████████| 26/26 [00:56<00:00,  2.17s/it]\n"
     ]
    },
    {
     "name": "stdout",
     "output_type": "stream",
     "text": [
      "Epoch 215\n"
     ]
    },
    {
     "name": "stderr",
     "output_type": "stream",
     "text": [
      "100%|███████████████████████████████████████████| 26/26 [22:48<00:00, 52.62s/it]\n",
      "100%|███████████████████████████████████████████| 26/26 [00:56<00:00,  2.18s/it]\n"
     ]
    },
    {
     "name": "stdout",
     "output_type": "stream",
     "text": [
      "Epoch 216\n"
     ]
    },
    {
     "name": "stderr",
     "output_type": "stream",
     "text": [
      "100%|███████████████████████████████████████████| 26/26 [22:35<00:00, 52.13s/it]\n",
      "100%|███████████████████████████████████████████| 26/26 [00:55<00:00,  2.14s/it]\n"
     ]
    },
    {
     "name": "stdout",
     "output_type": "stream",
     "text": [
      "Epoch 217\n"
     ]
    },
    {
     "name": "stderr",
     "output_type": "stream",
     "text": [
      "100%|███████████████████████████████████████████| 26/26 [21:03<00:00, 48.60s/it]\n",
      "100%|███████████████████████████████████████████| 26/26 [00:40<00:00,  1.56s/it]\n"
     ]
    },
    {
     "name": "stdout",
     "output_type": "stream",
     "text": [
      "Epoch 218\n"
     ]
    },
    {
     "name": "stderr",
     "output_type": "stream",
     "text": [
      "100%|███████████████████████████████████████████| 26/26 [16:52<00:00, 38.94s/it]\n",
      "100%|███████████████████████████████████████████| 26/26 [00:40<00:00,  1.55s/it]\n"
     ]
    },
    {
     "name": "stdout",
     "output_type": "stream",
     "text": [
      "Epoch 219\n"
     ]
    },
    {
     "name": "stderr",
     "output_type": "stream",
     "text": [
      "100%|███████████████████████████████████████████| 26/26 [16:54<00:00, 39.02s/it]\n",
      "100%|███████████████████████████████████████████| 26/26 [00:40<00:00,  1.55s/it]\n"
     ]
    },
    {
     "name": "stdout",
     "output_type": "stream",
     "text": [
      "Epoch 220\n"
     ]
    },
    {
     "name": "stderr",
     "output_type": "stream",
     "text": [
      "100%|███████████████████████████████████████████| 26/26 [16:59<00:00, 39.21s/it]\n",
      "100%|███████████████████████████████████████████| 26/26 [00:39<00:00,  1.52s/it]\n"
     ]
    },
    {
     "name": "stdout",
     "output_type": "stream",
     "text": [
      "Epoch 221\n"
     ]
    },
    {
     "name": "stderr",
     "output_type": "stream",
     "text": [
      "100%|███████████████████████████████████████████| 26/26 [16:38<00:00, 38.42s/it]\n",
      "100%|███████████████████████████████████████████| 26/26 [00:39<00:00,  1.53s/it]\n"
     ]
    },
    {
     "name": "stdout",
     "output_type": "stream",
     "text": [
      "Epoch 222\n"
     ]
    },
    {
     "name": "stderr",
     "output_type": "stream",
     "text": [
      "100%|███████████████████████████████████████████| 26/26 [16:45<00:00, 38.68s/it]\n",
      "100%|███████████████████████████████████████████| 26/26 [00:40<00:00,  1.54s/it]\n"
     ]
    },
    {
     "name": "stdout",
     "output_type": "stream",
     "text": [
      "Epoch 223\n"
     ]
    },
    {
     "name": "stderr",
     "output_type": "stream",
     "text": [
      "100%|███████████████████████████████████████████| 26/26 [16:53<00:00, 39.00s/it]\n",
      "100%|███████████████████████████████████████████| 26/26 [00:39<00:00,  1.54s/it]\n"
     ]
    },
    {
     "name": "stdout",
     "output_type": "stream",
     "text": [
      "Epoch 224\n"
     ]
    },
    {
     "name": "stderr",
     "output_type": "stream",
     "text": [
      "100%|███████████████████████████████████████████| 26/26 [16:54<00:00, 39.03s/it]\n",
      "100%|███████████████████████████████████████████| 26/26 [00:40<00:00,  1.54s/it]\n"
     ]
    },
    {
     "name": "stdout",
     "output_type": "stream",
     "text": [
      "Epoch 225\n"
     ]
    },
    {
     "name": "stderr",
     "output_type": "stream",
     "text": [
      "100%|███████████████████████████████████████████| 26/26 [16:40<00:00, 38.48s/it]\n",
      "100%|███████████████████████████████████████████| 26/26 [00:40<00:00,  1.55s/it]\n"
     ]
    },
    {
     "name": "stdout",
     "output_type": "stream",
     "text": [
      "Epoch 226\n"
     ]
    },
    {
     "name": "stderr",
     "output_type": "stream",
     "text": [
      "100%|███████████████████████████████████████████| 26/26 [16:45<00:00, 38.66s/it]\n",
      "100%|███████████████████████████████████████████| 26/26 [00:40<00:00,  1.55s/it]\n"
     ]
    },
    {
     "name": "stdout",
     "output_type": "stream",
     "text": [
      "Epoch 227\n"
     ]
    },
    {
     "name": "stderr",
     "output_type": "stream",
     "text": [
      "100%|███████████████████████████████████████████| 26/26 [16:53<00:00, 38.98s/it]\n",
      "100%|███████████████████████████████████████████| 26/26 [00:40<00:00,  1.54s/it]\n"
     ]
    },
    {
     "name": "stdout",
     "output_type": "stream",
     "text": [
      "Epoch 228\n"
     ]
    },
    {
     "name": "stderr",
     "output_type": "stream",
     "text": [
      "100%|███████████████████████████████████████████| 26/26 [16:57<00:00, 39.12s/it]\n",
      "100%|███████████████████████████████████████████| 26/26 [00:40<00:00,  1.54s/it]\n"
     ]
    },
    {
     "name": "stdout",
     "output_type": "stream",
     "text": [
      "Epoch 229\n"
     ]
    },
    {
     "name": "stderr",
     "output_type": "stream",
     "text": [
      "100%|███████████████████████████████████████████| 26/26 [16:45<00:00, 38.68s/it]\n",
      "100%|███████████████████████████████████████████| 26/26 [00:40<00:00,  1.55s/it]\n"
     ]
    },
    {
     "name": "stdout",
     "output_type": "stream",
     "text": [
      "Epoch 230\n"
     ]
    },
    {
     "name": "stderr",
     "output_type": "stream",
     "text": [
      "100%|███████████████████████████████████████████| 26/26 [16:46<00:00, 38.73s/it]\n",
      "100%|███████████████████████████████████████████| 26/26 [00:40<00:00,  1.55s/it]\n"
     ]
    },
    {
     "name": "stdout",
     "output_type": "stream",
     "text": [
      "Epoch 231\n"
     ]
    },
    {
     "name": "stderr",
     "output_type": "stream",
     "text": [
      "100%|███████████████████████████████████████████| 26/26 [16:49<00:00, 38.81s/it]\n",
      "100%|███████████████████████████████████████████| 26/26 [00:40<00:00,  1.55s/it]\n"
     ]
    },
    {
     "name": "stdout",
     "output_type": "stream",
     "text": [
      "Epoch 232\n"
     ]
    },
    {
     "name": "stderr",
     "output_type": "stream",
     "text": [
      "100%|███████████████████████████████████████████| 26/26 [16:59<00:00, 39.20s/it]\n",
      "100%|███████████████████████████████████████████| 26/26 [00:40<00:00,  1.54s/it]\n"
     ]
    },
    {
     "name": "stdout",
     "output_type": "stream",
     "text": [
      "Epoch 233\n"
     ]
    },
    {
     "name": "stderr",
     "output_type": "stream",
     "text": [
      "100%|███████████████████████████████████████████| 26/26 [16:52<00:00, 38.94s/it]\n",
      "100%|███████████████████████████████████████████| 26/26 [00:39<00:00,  1.54s/it]\n"
     ]
    },
    {
     "name": "stdout",
     "output_type": "stream",
     "text": [
      "Epoch 234\n"
     ]
    },
    {
     "name": "stderr",
     "output_type": "stream",
     "text": [
      "100%|███████████████████████████████████████████| 26/26 [16:46<00:00, 38.70s/it]\n",
      "100%|███████████████████████████████████████████| 26/26 [00:40<00:00,  1.56s/it]\n"
     ]
    },
    {
     "name": "stdout",
     "output_type": "stream",
     "text": [
      "Epoch 235\n"
     ]
    },
    {
     "name": "stderr",
     "output_type": "stream",
     "text": [
      "100%|███████████████████████████████████████████| 26/26 [16:44<00:00, 38.65s/it]\n",
      "100%|███████████████████████████████████████████| 26/26 [00:40<00:00,  1.54s/it]\n"
     ]
    },
    {
     "name": "stdout",
     "output_type": "stream",
     "text": [
      "Epoch 236\n"
     ]
    },
    {
     "name": "stderr",
     "output_type": "stream",
     "text": [
      "100%|███████████████████████████████████████████| 26/26 [16:52<00:00, 38.95s/it]\n",
      "100%|███████████████████████████████████████████| 26/26 [00:40<00:00,  1.55s/it]\n"
     ]
    },
    {
     "name": "stdout",
     "output_type": "stream",
     "text": [
      "Epoch 237\n"
     ]
    },
    {
     "name": "stderr",
     "output_type": "stream",
     "text": [
      "100%|███████████████████████████████████████████| 26/26 [16:56<00:00, 39.08s/it]\n",
      "100%|███████████████████████████████████████████| 26/26 [00:40<00:00,  1.56s/it]\n"
     ]
    },
    {
     "name": "stdout",
     "output_type": "stream",
     "text": [
      "Epoch 238\n"
     ]
    },
    {
     "name": "stderr",
     "output_type": "stream",
     "text": [
      "100%|███████████████████████████████████████████| 26/26 [16:44<00:00, 38.65s/it]\n",
      "100%|███████████████████████████████████████████| 26/26 [00:40<00:00,  1.55s/it]\n"
     ]
    },
    {
     "name": "stdout",
     "output_type": "stream",
     "text": [
      "Epoch 239\n"
     ]
    },
    {
     "name": "stderr",
     "output_type": "stream",
     "text": [
      "100%|███████████████████████████████████████████| 26/26 [16:53<00:00, 38.97s/it]\n",
      "100%|███████████████████████████████████████████| 26/26 [00:37<00:00,  1.45s/it]\n"
     ]
    },
    {
     "name": "stdout",
     "output_type": "stream",
     "text": [
      "Epoch 240\n"
     ]
    },
    {
     "name": "stderr",
     "output_type": "stream",
     "text": [
      "100%|███████████████████████████████████████████| 26/26 [16:46<00:00, 38.70s/it]\n",
      "100%|███████████████████████████████████████████| 26/26 [00:40<00:00,  1.54s/it]\n"
     ]
    },
    {
     "name": "stdout",
     "output_type": "stream",
     "text": [
      "Epoch 241\n"
     ]
    },
    {
     "name": "stderr",
     "output_type": "stream",
     "text": [
      "100%|███████████████████████████████████████████| 26/26 [16:51<00:00, 38.92s/it]\n",
      "100%|███████████████████████████████████████████| 26/26 [00:40<00:00,  1.55s/it]\n"
     ]
    },
    {
     "name": "stdout",
     "output_type": "stream",
     "text": [
      "Epoch 242\n"
     ]
    },
    {
     "name": "stderr",
     "output_type": "stream",
     "text": [
      "100%|███████████████████████████████████████████| 26/26 [16:45<00:00, 38.66s/it]\n",
      "100%|███████████████████████████████████████████| 26/26 [00:40<00:00,  1.55s/it]\n"
     ]
    },
    {
     "name": "stdout",
     "output_type": "stream",
     "text": [
      "Epoch 243\n"
     ]
    },
    {
     "name": "stderr",
     "output_type": "stream",
     "text": [
      "100%|███████████████████████████████████████████| 26/26 [16:55<00:00, 39.08s/it]\n",
      "100%|███████████████████████████████████████████| 26/26 [00:40<00:00,  1.55s/it]\n"
     ]
    },
    {
     "name": "stdout",
     "output_type": "stream",
     "text": [
      "Epoch 244\n"
     ]
    },
    {
     "name": "stderr",
     "output_type": "stream",
     "text": [
      "100%|███████████████████████████████████████████| 26/26 [16:58<00:00, 39.16s/it]\n",
      "100%|███████████████████████████████████████████| 26/26 [00:38<00:00,  1.49s/it]\n"
     ]
    },
    {
     "name": "stdout",
     "output_type": "stream",
     "text": [
      "Epoch 245\n"
     ]
    },
    {
     "name": "stderr",
     "output_type": "stream",
     "text": [
      "100%|███████████████████████████████████████████| 26/26 [16:46<00:00, 38.69s/it]\n",
      "100%|███████████████████████████████████████████| 26/26 [00:40<00:00,  1.55s/it]\n"
     ]
    },
    {
     "name": "stdout",
     "output_type": "stream",
     "text": [
      "Epoch 246\n"
     ]
    },
    {
     "name": "stderr",
     "output_type": "stream",
     "text": [
      "100%|███████████████████████████████████████████| 26/26 [16:48<00:00, 38.78s/it]\n",
      "100%|███████████████████████████████████████████| 26/26 [00:40<00:00,  1.55s/it]\n"
     ]
    },
    {
     "name": "stdout",
     "output_type": "stream",
     "text": [
      "Epoch 247\n"
     ]
    },
    {
     "name": "stderr",
     "output_type": "stream",
     "text": [
      "100%|███████████████████████████████████████████| 26/26 [16:55<00:00, 39.06s/it]\n",
      "100%|███████████████████████████████████████████| 26/26 [00:40<00:00,  1.55s/it]\n"
     ]
    },
    {
     "name": "stdout",
     "output_type": "stream",
     "text": [
      "Epoch 248\n"
     ]
    },
    {
     "name": "stderr",
     "output_type": "stream",
     "text": [
      "100%|███████████████████████████████████████████| 26/26 [17:01<00:00, 39.30s/it]\n",
      "100%|███████████████████████████████████████████| 26/26 [00:40<00:00,  1.56s/it]\n"
     ]
    },
    {
     "name": "stdout",
     "output_type": "stream",
     "text": [
      "Epoch 249\n"
     ]
    },
    {
     "name": "stderr",
     "output_type": "stream",
     "text": [
      "100%|███████████████████████████████████████████| 26/26 [17:01<00:00, 39.31s/it]\n",
      "100%|███████████████████████████████████████████| 26/26 [00:38<00:00,  1.48s/it]\n"
     ]
    },
    {
     "name": "stdout",
     "output_type": "stream",
     "text": [
      "Epoch 250\n"
     ]
    },
    {
     "name": "stderr",
     "output_type": "stream",
     "text": [
      "100%|███████████████████████████████████████████| 26/26 [16:45<00:00, 38.68s/it]\n",
      "100%|███████████████████████████████████████████| 26/26 [00:40<00:00,  1.56s/it]\n"
     ]
    },
    {
     "name": "stdout",
     "output_type": "stream",
     "text": [
      "Epoch 251\n"
     ]
    },
    {
     "name": "stderr",
     "output_type": "stream",
     "text": [
      "100%|███████████████████████████████████████████| 26/26 [16:52<00:00, 38.95s/it]\n",
      "100%|███████████████████████████████████████████| 26/26 [00:40<00:00,  1.56s/it]\n"
     ]
    },
    {
     "name": "stdout",
     "output_type": "stream",
     "text": [
      "Epoch 252\n"
     ]
    },
    {
     "name": "stderr",
     "output_type": "stream",
     "text": [
      "100%|███████████████████████████████████████████| 26/26 [17:03<00:00, 39.36s/it]\n",
      "100%|███████████████████████████████████████████| 26/26 [00:40<00:00,  1.55s/it]\n"
     ]
    },
    {
     "name": "stdout",
     "output_type": "stream",
     "text": [
      "Epoch 253\n"
     ]
    },
    {
     "name": "stderr",
     "output_type": "stream",
     "text": [
      "100%|███████████████████████████████████████████| 26/26 [17:04<00:00, 39.40s/it]\n",
      "100%|███████████████████████████████████████████| 26/26 [00:40<00:00,  1.55s/it]\n"
     ]
    },
    {
     "name": "stdout",
     "output_type": "stream",
     "text": [
      "Epoch 254\n"
     ]
    },
    {
     "name": "stderr",
     "output_type": "stream",
     "text": [
      "100%|███████████████████████████████████████████| 26/26 [16:51<00:00, 38.92s/it]\n",
      "100%|███████████████████████████████████████████| 26/26 [00:40<00:00,  1.56s/it]\n"
     ]
    },
    {
     "name": "stdout",
     "output_type": "stream",
     "text": [
      "Epoch 255\n"
     ]
    },
    {
     "name": "stderr",
     "output_type": "stream",
     "text": [
      "100%|███████████████████████████████████████████| 26/26 [16:50<00:00, 38.88s/it]\n",
      "100%|███████████████████████████████████████████| 26/26 [00:40<00:00,  1.56s/it]\n"
     ]
    },
    {
     "name": "stdout",
     "output_type": "stream",
     "text": [
      "Epoch 256\n"
     ]
    },
    {
     "name": "stderr",
     "output_type": "stream",
     "text": [
      "100%|███████████████████████████████████████████| 26/26 [17:00<00:00, 39.25s/it]\n",
      "100%|███████████████████████████████████████████| 26/26 [00:40<00:00,  1.54s/it]\n"
     ]
    },
    {
     "name": "stdout",
     "output_type": "stream",
     "text": [
      "Epoch 257\n"
     ]
    },
    {
     "name": "stderr",
     "output_type": "stream",
     "text": [
      "100%|███████████████████████████████████████████| 26/26 [17:04<00:00, 39.41s/it]\n",
      "100%|███████████████████████████████████████████| 26/26 [00:41<00:00,  1.58s/it]\n"
     ]
    },
    {
     "name": "stdout",
     "output_type": "stream",
     "text": [
      "Epoch 258\n"
     ]
    },
    {
     "name": "stderr",
     "output_type": "stream",
     "text": [
      "100%|███████████████████████████████████████████| 26/26 [16:56<00:00, 39.10s/it]\n",
      "100%|███████████████████████████████████████████| 26/26 [00:41<00:00,  1.58s/it]\n"
     ]
    },
    {
     "name": "stdout",
     "output_type": "stream",
     "text": [
      "Epoch 259\n"
     ]
    },
    {
     "name": "stderr",
     "output_type": "stream",
     "text": [
      "100%|███████████████████████████████████████████| 26/26 [16:58<00:00, 39.16s/it]\n",
      "100%|███████████████████████████████████████████| 26/26 [00:40<00:00,  1.55s/it]\n"
     ]
    },
    {
     "name": "stdout",
     "output_type": "stream",
     "text": [
      "Epoch 260\n"
     ]
    },
    {
     "name": "stderr",
     "output_type": "stream",
     "text": [
      "100%|███████████████████████████████████████████| 26/26 [16:56<00:00, 39.10s/it]\n",
      "100%|███████████████████████████████████████████| 26/26 [00:40<00:00,  1.55s/it]\n"
     ]
    },
    {
     "name": "stdout",
     "output_type": "stream",
     "text": [
      "Epoch 261\n"
     ]
    },
    {
     "name": "stderr",
     "output_type": "stream",
     "text": [
      "100%|███████████████████████████████████████████| 26/26 [17:04<00:00, 39.41s/it]\n",
      "100%|███████████████████████████████████████████| 26/26 [00:40<00:00,  1.56s/it]\n"
     ]
    },
    {
     "name": "stdout",
     "output_type": "stream",
     "text": [
      "Epoch 262\n"
     ]
    },
    {
     "name": "stderr",
     "output_type": "stream",
     "text": [
      "100%|███████████████████████████████████████████| 26/26 [17:03<00:00, 39.35s/it]\n",
      "100%|███████████████████████████████████████████| 26/26 [00:40<00:00,  1.57s/it]\n"
     ]
    },
    {
     "name": "stdout",
     "output_type": "stream",
     "text": [
      "Epoch 263\n"
     ]
    },
    {
     "name": "stderr",
     "output_type": "stream",
     "text": [
      "100%|███████████████████████████████████████████| 26/26 [16:51<00:00, 38.90s/it]\n",
      "100%|███████████████████████████████████████████| 26/26 [00:40<00:00,  1.57s/it]\n"
     ]
    },
    {
     "name": "stdout",
     "output_type": "stream",
     "text": [
      "Epoch 264\n"
     ]
    },
    {
     "name": "stderr",
     "output_type": "stream",
     "text": [
      "100%|███████████████████████████████████████████| 26/26 [16:51<00:00, 38.92s/it]\n",
      "100%|███████████████████████████████████████████| 26/26 [00:40<00:00,  1.56s/it]\n"
     ]
    },
    {
     "name": "stdout",
     "output_type": "stream",
     "text": [
      "Epoch 265\n"
     ]
    },
    {
     "name": "stderr",
     "output_type": "stream",
     "text": [
      "100%|███████████████████████████████████████████| 26/26 [16:58<00:00, 39.19s/it]\n",
      "100%|███████████████████████████████████████████| 26/26 [00:40<00:00,  1.55s/it]\n"
     ]
    },
    {
     "name": "stdout",
     "output_type": "stream",
     "text": [
      "Epoch 266\n"
     ]
    },
    {
     "name": "stderr",
     "output_type": "stream",
     "text": [
      "100%|███████████████████████████████████████████| 26/26 [17:11<00:00, 39.66s/it]\n",
      "100%|███████████████████████████████████████████| 26/26 [00:40<00:00,  1.57s/it]\n"
     ]
    },
    {
     "name": "stdout",
     "output_type": "stream",
     "text": [
      "Epoch 267\n"
     ]
    },
    {
     "name": "stderr",
     "output_type": "stream",
     "text": [
      "100%|███████████████████████████████████████████| 26/26 [16:52<00:00, 38.96s/it]\n",
      "100%|███████████████████████████████████████████| 26/26 [00:40<00:00,  1.57s/it]\n"
     ]
    },
    {
     "name": "stdout",
     "output_type": "stream",
     "text": [
      "Epoch 268\n"
     ]
    },
    {
     "name": "stderr",
     "output_type": "stream",
     "text": [
      "100%|███████████████████████████████████████████| 26/26 [17:02<00:00, 39.34s/it]\n",
      "100%|███████████████████████████████████████████| 26/26 [00:39<00:00,  1.54s/it]\n"
     ]
    },
    {
     "name": "stdout",
     "output_type": "stream",
     "text": [
      "Epoch 269\n"
     ]
    },
    {
     "name": "stderr",
     "output_type": "stream",
     "text": [
      "100%|███████████████████████████████████████████| 26/26 [16:52<00:00, 38.96s/it]\n",
      "100%|███████████████████████████████████████████| 26/26 [00:40<00:00,  1.56s/it]\n"
     ]
    },
    {
     "name": "stdout",
     "output_type": "stream",
     "text": [
      "Epoch 270\n"
     ]
    },
    {
     "name": "stderr",
     "output_type": "stream",
     "text": [
      "100%|███████████████████████████████████████████| 26/26 [17:00<00:00, 39.27s/it]\n",
      "100%|███████████████████████████████████████████| 26/26 [00:40<00:00,  1.57s/it]\n"
     ]
    },
    {
     "name": "stdout",
     "output_type": "stream",
     "text": [
      "Epoch 271\n"
     ]
    },
    {
     "name": "stderr",
     "output_type": "stream",
     "text": [
      "100%|███████████████████████████████████████████| 26/26 [16:56<00:00, 39.09s/it]\n",
      "100%|███████████████████████████████████████████| 26/26 [00:40<00:00,  1.56s/it]\n"
     ]
    },
    {
     "name": "stdout",
     "output_type": "stream",
     "text": [
      "Epoch 272\n"
     ]
    },
    {
     "name": "stderr",
     "output_type": "stream",
     "text": [
      "100%|███████████████████████████████████████████| 26/26 [16:59<00:00, 39.22s/it]\n",
      "100%|███████████████████████████████████████████| 26/26 [00:41<00:00,  1.58s/it]\n"
     ]
    },
    {
     "name": "stdout",
     "output_type": "stream",
     "text": [
      "Epoch 273\n"
     ]
    },
    {
     "name": "stderr",
     "output_type": "stream",
     "text": [
      "100%|███████████████████████████████████████████| 26/26 [17:04<00:00, 39.41s/it]\n",
      "100%|███████████████████████████████████████████| 26/26 [00:40<00:00,  1.54s/it]\n"
     ]
    },
    {
     "name": "stdout",
     "output_type": "stream",
     "text": [
      "Epoch 274\n"
     ]
    },
    {
     "name": "stderr",
     "output_type": "stream",
     "text": [
      "100%|███████████████████████████████████████████| 26/26 [16:50<00:00, 38.87s/it]\n",
      "100%|███████████████████████████████████████████| 26/26 [00:40<00:00,  1.55s/it]\n"
     ]
    },
    {
     "name": "stdout",
     "output_type": "stream",
     "text": [
      "Epoch 275\n"
     ]
    },
    {
     "name": "stderr",
     "output_type": "stream",
     "text": [
      "100%|███████████████████████████████████████████| 26/26 [16:54<00:00, 39.02s/it]\n",
      "100%|███████████████████████████████████████████| 26/26 [00:40<00:00,  1.56s/it]\n"
     ]
    },
    {
     "name": "stdout",
     "output_type": "stream",
     "text": [
      "Epoch 276\n"
     ]
    },
    {
     "name": "stderr",
     "output_type": "stream",
     "text": [
      "100%|███████████████████████████████████████████| 26/26 [16:57<00:00, 39.15s/it]\n",
      "100%|███████████████████████████████████████████| 26/26 [00:40<00:00,  1.55s/it]\n"
     ]
    },
    {
     "name": "stdout",
     "output_type": "stream",
     "text": [
      "Epoch 277\n"
     ]
    },
    {
     "name": "stderr",
     "output_type": "stream",
     "text": [
      "100%|███████████████████████████████████████████| 26/26 [17:06<00:00, 39.48s/it]\n",
      "100%|███████████████████████████████████████████| 26/26 [00:40<00:00,  1.57s/it]\n"
     ]
    },
    {
     "name": "stdout",
     "output_type": "stream",
     "text": [
      "Epoch 278\n"
     ]
    },
    {
     "name": "stderr",
     "output_type": "stream",
     "text": [
      "100%|███████████████████████████████████████████| 26/26 [17:07<00:00, 39.53s/it]\n",
      "100%|███████████████████████████████████████████| 26/26 [00:40<00:00,  1.55s/it]\n"
     ]
    },
    {
     "name": "stdout",
     "output_type": "stream",
     "text": [
      "Epoch 279\n"
     ]
    },
    {
     "name": "stderr",
     "output_type": "stream",
     "text": [
      "100%|███████████████████████████████████████████| 26/26 [16:49<00:00, 38.82s/it]\n",
      "100%|███████████████████████████████████████████| 26/26 [00:40<00:00,  1.56s/it]\n"
     ]
    },
    {
     "name": "stdout",
     "output_type": "stream",
     "text": [
      "Epoch 280\n"
     ]
    },
    {
     "name": "stderr",
     "output_type": "stream",
     "text": [
      "100%|███████████████████████████████████████████| 26/26 [16:56<00:00, 39.10s/it]\n",
      "100%|███████████████████████████████████████████| 26/26 [00:40<00:00,  1.55s/it]\n"
     ]
    },
    {
     "name": "stdout",
     "output_type": "stream",
     "text": [
      "Epoch 281\n"
     ]
    },
    {
     "name": "stderr",
     "output_type": "stream",
     "text": [
      "100%|███████████████████████████████████████████| 26/26 [17:03<00:00, 39.36s/it]\n",
      "100%|███████████████████████████████████████████| 26/26 [00:40<00:00,  1.56s/it]\n"
     ]
    },
    {
     "name": "stdout",
     "output_type": "stream",
     "text": [
      "Epoch 282\n"
     ]
    },
    {
     "name": "stderr",
     "output_type": "stream",
     "text": [
      "100%|███████████████████████████████████████████| 26/26 [17:08<00:00, 39.54s/it]\n",
      "100%|███████████████████████████████████████████| 26/26 [00:40<00:00,  1.57s/it]\n"
     ]
    },
    {
     "name": "stdout",
     "output_type": "stream",
     "text": [
      "Epoch 283\n"
     ]
    },
    {
     "name": "stderr",
     "output_type": "stream",
     "text": [
      "100%|███████████████████████████████████████████| 26/26 [17:00<00:00, 39.25s/it]\n",
      "100%|███████████████████████████████████████████| 26/26 [00:40<00:00,  1.54s/it]\n"
     ]
    },
    {
     "name": "stdout",
     "output_type": "stream",
     "text": [
      "Epoch 284\n"
     ]
    },
    {
     "name": "stderr",
     "output_type": "stream",
     "text": [
      "100%|███████████████████████████████████████████| 26/26 [16:52<00:00, 38.95s/it]\n",
      "100%|███████████████████████████████████████████| 26/26 [00:40<00:00,  1.55s/it]\n"
     ]
    },
    {
     "name": "stdout",
     "output_type": "stream",
     "text": [
      "Epoch 285\n"
     ]
    },
    {
     "name": "stderr",
     "output_type": "stream",
     "text": [
      "100%|███████████████████████████████████████████| 26/26 [16:59<00:00, 39.20s/it]\n",
      "100%|███████████████████████████████████████████| 26/26 [00:40<00:00,  1.57s/it]\n"
     ]
    },
    {
     "name": "stdout",
     "output_type": "stream",
     "text": [
      "Epoch 286\n"
     ]
    },
    {
     "name": "stderr",
     "output_type": "stream",
     "text": [
      "100%|███████████████████████████████████████████| 26/26 [17:06<00:00, 39.48s/it]\n",
      "100%|███████████████████████████████████████████| 26/26 [00:40<00:00,  1.55s/it]\n"
     ]
    },
    {
     "name": "stdout",
     "output_type": "stream",
     "text": [
      "Epoch 287\n"
     ]
    },
    {
     "name": "stderr",
     "output_type": "stream",
     "text": [
      "100%|███████████████████████████████████████████| 26/26 [17:02<00:00, 39.34s/it]\n",
      "100%|███████████████████████████████████████████| 26/26 [00:40<00:00,  1.58s/it]\n"
     ]
    },
    {
     "name": "stdout",
     "output_type": "stream",
     "text": [
      "Epoch 288\n"
     ]
    },
    {
     "name": "stderr",
     "output_type": "stream",
     "text": [
      "100%|███████████████████████████████████████████| 26/26 [16:52<00:00, 38.95s/it]\n",
      "100%|███████████████████████████████████████████| 26/26 [00:40<00:00,  1.55s/it]\n"
     ]
    },
    {
     "name": "stdout",
     "output_type": "stream",
     "text": [
      "Epoch 289\n"
     ]
    },
    {
     "name": "stderr",
     "output_type": "stream",
     "text": [
      "100%|███████████████████████████████████████████| 26/26 [16:52<00:00, 38.93s/it]\n",
      "100%|███████████████████████████████████████████| 26/26 [00:40<00:00,  1.55s/it]\n"
     ]
    },
    {
     "name": "stdout",
     "output_type": "stream",
     "text": [
      "Epoch 290\n"
     ]
    },
    {
     "name": "stderr",
     "output_type": "stream",
     "text": [
      "100%|███████████████████████████████████████████| 26/26 [17:00<00:00, 39.27s/it]\n",
      "100%|███████████████████████████████████████████| 26/26 [00:40<00:00,  1.56s/it]\n"
     ]
    },
    {
     "name": "stdout",
     "output_type": "stream",
     "text": [
      "Epoch 291\n"
     ]
    },
    {
     "name": "stderr",
     "output_type": "stream",
     "text": [
      "100%|███████████████████████████████████████████| 26/26 [17:01<00:00, 39.30s/it]\n",
      "100%|███████████████████████████████████████████| 26/26 [00:40<00:00,  1.56s/it]\n"
     ]
    },
    {
     "name": "stdout",
     "output_type": "stream",
     "text": [
      "Epoch 292\n"
     ]
    },
    {
     "name": "stderr",
     "output_type": "stream",
     "text": [
      "100%|███████████████████████████████████████████| 26/26 [16:46<00:00, 38.73s/it]\n",
      "100%|███████████████████████████████████████████| 26/26 [00:40<00:00,  1.56s/it]\n"
     ]
    },
    {
     "name": "stdout",
     "output_type": "stream",
     "text": [
      "Epoch 293\n"
     ]
    },
    {
     "name": "stderr",
     "output_type": "stream",
     "text": [
      "100%|███████████████████████████████████████████| 26/26 [16:48<00:00, 38.79s/it]\n",
      "100%|███████████████████████████████████████████| 26/26 [00:40<00:00,  1.55s/it]\n"
     ]
    },
    {
     "name": "stdout",
     "output_type": "stream",
     "text": [
      "Epoch 294\n"
     ]
    },
    {
     "name": "stderr",
     "output_type": "stream",
     "text": [
      "100%|███████████████████████████████████████████| 26/26 [16:52<00:00, 38.96s/it]\n",
      "100%|███████████████████████████████████████████| 26/26 [00:40<00:00,  1.56s/it]\n"
     ]
    },
    {
     "name": "stdout",
     "output_type": "stream",
     "text": [
      "Epoch 295\n"
     ]
    },
    {
     "name": "stderr",
     "output_type": "stream",
     "text": [
      "100%|███████████████████████████████████████████| 26/26 [17:00<00:00, 39.23s/it]\n",
      "100%|███████████████████████████████████████████| 26/26 [00:40<00:00,  1.55s/it]\n"
     ]
    },
    {
     "name": "stdout",
     "output_type": "stream",
     "text": [
      "Epoch 296\n"
     ]
    },
    {
     "name": "stderr",
     "output_type": "stream",
     "text": [
      "100%|███████████████████████████████████████████| 26/26 [16:46<00:00, 38.70s/it]\n",
      "100%|███████████████████████████████████████████| 26/26 [00:40<00:00,  1.57s/it]\n"
     ]
    },
    {
     "name": "stdout",
     "output_type": "stream",
     "text": [
      "Epoch 297\n"
     ]
    },
    {
     "name": "stderr",
     "output_type": "stream",
     "text": [
      "100%|███████████████████████████████████████████| 26/26 [16:54<00:00, 39.02s/it]\n",
      "100%|███████████████████████████████████████████| 26/26 [00:37<00:00,  1.45s/it]\n"
     ]
    },
    {
     "name": "stdout",
     "output_type": "stream",
     "text": [
      "Epoch 298\n"
     ]
    },
    {
     "name": "stderr",
     "output_type": "stream",
     "text": [
      "100%|███████████████████████████████████████████| 26/26 [16:44<00:00, 38.65s/it]\n",
      "100%|███████████████████████████████████████████| 26/26 [00:40<00:00,  1.55s/it]\n"
     ]
    },
    {
     "name": "stdout",
     "output_type": "stream",
     "text": [
      "Epoch 299\n"
     ]
    },
    {
     "name": "stderr",
     "output_type": "stream",
     "text": [
      "100%|███████████████████████████████████████████| 26/26 [16:53<00:00, 38.99s/it]\n",
      "100%|███████████████████████████████████████████| 26/26 [00:40<00:00,  1.56s/it]\n"
     ]
    },
    {
     "name": "stdout",
     "output_type": "stream",
     "text": [
      "Epoch 300\n"
     ]
    },
    {
     "name": "stderr",
     "output_type": "stream",
     "text": [
      "100%|███████████████████████████████████████████| 26/26 [16:53<00:00, 38.96s/it]\n",
      "100%|███████████████████████████████████████████| 26/26 [00:40<00:00,  1.54s/it]\n"
     ]
    },
    {
     "name": "stdout",
     "output_type": "stream",
     "text": [
      "Epoch 301\n"
     ]
    },
    {
     "name": "stderr",
     "output_type": "stream",
     "text": [
      "100%|███████████████████████████████████████████| 26/26 [16:47<00:00, 38.75s/it]\n",
      "100%|███████████████████████████████████████████| 26/26 [00:40<00:00,  1.54s/it]\n"
     ]
    },
    {
     "name": "stdout",
     "output_type": "stream",
     "text": [
      "Epoch 302\n"
     ]
    },
    {
     "name": "stderr",
     "output_type": "stream",
     "text": [
      "100%|███████████████████████████████████████████| 26/26 [16:49<00:00, 38.82s/it]\n",
      "100%|███████████████████████████████████████████| 26/26 [00:39<00:00,  1.53s/it]\n"
     ]
    },
    {
     "name": "stdout",
     "output_type": "stream",
     "text": [
      "Epoch 303\n"
     ]
    },
    {
     "name": "stderr",
     "output_type": "stream",
     "text": [
      "100%|███████████████████████████████████████████| 26/26 [16:44<00:00, 38.63s/it]\n",
      "100%|███████████████████████████████████████████| 26/26 [00:40<00:00,  1.54s/it]\n"
     ]
    },
    {
     "name": "stdout",
     "output_type": "stream",
     "text": [
      "Epoch 304\n"
     ]
    },
    {
     "name": "stderr",
     "output_type": "stream",
     "text": [
      "100%|███████████████████████████████████████████| 26/26 [16:47<00:00, 38.74s/it]\n",
      "100%|███████████████████████████████████████████| 26/26 [00:40<00:00,  1.55s/it]\n"
     ]
    },
    {
     "name": "stdout",
     "output_type": "stream",
     "text": [
      "Epoch 305\n"
     ]
    },
    {
     "name": "stderr",
     "output_type": "stream",
     "text": [
      "100%|███████████████████████████████████████████| 26/26 [16:49<00:00, 38.84s/it]\n",
      "100%|███████████████████████████████████████████| 26/26 [00:40<00:00,  1.55s/it]\n"
     ]
    },
    {
     "name": "stdout",
     "output_type": "stream",
     "text": [
      "Epoch 306\n"
     ]
    },
    {
     "name": "stderr",
     "output_type": "stream",
     "text": [
      "100%|███████████████████████████████████████████| 26/26 [16:59<00:00, 39.19s/it]\n",
      "100%|███████████████████████████████████████████| 26/26 [00:40<00:00,  1.55s/it]\n"
     ]
    },
    {
     "name": "stdout",
     "output_type": "stream",
     "text": [
      "Epoch 307\n"
     ]
    },
    {
     "name": "stderr",
     "output_type": "stream",
     "text": [
      "100%|███████████████████████████████████████████| 26/26 [16:55<00:00, 39.06s/it]\n",
      "100%|███████████████████████████████████████████| 26/26 [00:40<00:00,  1.54s/it]\n"
     ]
    },
    {
     "name": "stdout",
     "output_type": "stream",
     "text": [
      "Epoch 308\n"
     ]
    },
    {
     "name": "stderr",
     "output_type": "stream",
     "text": [
      "100%|███████████████████████████████████████████| 26/26 [16:45<00:00, 38.68s/it]\n",
      "100%|███████████████████████████████████████████| 26/26 [00:40<00:00,  1.56s/it]\n"
     ]
    },
    {
     "name": "stdout",
     "output_type": "stream",
     "text": [
      "Epoch 309\n"
     ]
    },
    {
     "name": "stderr",
     "output_type": "stream",
     "text": [
      "100%|███████████████████████████████████████████| 26/26 [16:49<00:00, 38.82s/it]\n",
      "100%|███████████████████████████████████████████| 26/26 [00:40<00:00,  1.55s/it]\n"
     ]
    },
    {
     "name": "stdout",
     "output_type": "stream",
     "text": [
      "Epoch 310\n"
     ]
    },
    {
     "name": "stderr",
     "output_type": "stream",
     "text": [
      "100%|███████████████████████████████████████████| 26/26 [16:59<00:00, 39.20s/it]\n",
      "100%|███████████████████████████████████████████| 26/26 [00:40<00:00,  1.55s/it]\n"
     ]
    },
    {
     "name": "stdout",
     "output_type": "stream",
     "text": [
      "Epoch 311\n"
     ]
    },
    {
     "name": "stderr",
     "output_type": "stream",
     "text": [
      "100%|███████████████████████████████████████████| 26/26 [17:02<00:00, 39.32s/it]\n",
      "100%|███████████████████████████████████████████| 26/26 [00:40<00:00,  1.56s/it]\n"
     ]
    },
    {
     "name": "stdout",
     "output_type": "stream",
     "text": [
      "Epoch 312\n"
     ]
    },
    {
     "name": "stderr",
     "output_type": "stream",
     "text": [
      "100%|███████████████████████████████████████████| 26/26 [17:01<00:00, 39.29s/it]\n",
      "100%|███████████████████████████████████████████| 26/26 [00:40<00:00,  1.56s/it]\n"
     ]
    },
    {
     "name": "stdout",
     "output_type": "stream",
     "text": [
      "Epoch 313\n"
     ]
    },
    {
     "name": "stderr",
     "output_type": "stream",
     "text": [
      "100%|███████████████████████████████████████████| 26/26 [16:50<00:00, 38.85s/it]\n",
      "100%|███████████████████████████████████████████| 26/26 [00:40<00:00,  1.56s/it]\n"
     ]
    },
    {
     "name": "stdout",
     "output_type": "stream",
     "text": [
      "Epoch 314\n"
     ]
    },
    {
     "name": "stderr",
     "output_type": "stream",
     "text": [
      "100%|███████████████████████████████████████████| 26/26 [17:00<00:00, 39.24s/it]\n",
      "100%|███████████████████████████████████████████| 26/26 [00:40<00:00,  1.56s/it]\n"
     ]
    },
    {
     "name": "stdout",
     "output_type": "stream",
     "text": [
      "Epoch 315\n"
     ]
    },
    {
     "name": "stderr",
     "output_type": "stream",
     "text": [
      "100%|███████████████████████████████████████████| 26/26 [17:07<00:00, 39.54s/it]\n",
      "100%|███████████████████████████████████████████| 26/26 [00:40<00:00,  1.56s/it]\n"
     ]
    },
    {
     "name": "stdout",
     "output_type": "stream",
     "text": [
      "Epoch 316\n"
     ]
    },
    {
     "name": "stderr",
     "output_type": "stream",
     "text": [
      "100%|███████████████████████████████████████████| 26/26 [17:05<00:00, 39.43s/it]\n",
      "100%|███████████████████████████████████████████| 26/26 [00:40<00:00,  1.57s/it]\n"
     ]
    },
    {
     "name": "stdout",
     "output_type": "stream",
     "text": [
      "Epoch 317\n"
     ]
    },
    {
     "name": "stderr",
     "output_type": "stream",
     "text": [
      "100%|███████████████████████████████████████████| 26/26 [16:51<00:00, 38.90s/it]\n",
      "100%|███████████████████████████████████████████| 26/26 [00:40<00:00,  1.56s/it]\n"
     ]
    },
    {
     "name": "stdout",
     "output_type": "stream",
     "text": [
      "Epoch 318\n"
     ]
    },
    {
     "name": "stderr",
     "output_type": "stream",
     "text": [
      "100%|███████████████████████████████████████████| 26/26 [16:57<00:00, 39.12s/it]\n",
      "100%|███████████████████████████████████████████| 26/26 [00:40<00:00,  1.56s/it]\n"
     ]
    },
    {
     "name": "stdout",
     "output_type": "stream",
     "text": [
      "Epoch 319\n"
     ]
    },
    {
     "name": "stderr",
     "output_type": "stream",
     "text": [
      "100%|███████████████████████████████████████████| 26/26 [17:07<00:00, 39.50s/it]\n",
      "100%|███████████████████████████████████████████| 26/26 [00:40<00:00,  1.56s/it]\n"
     ]
    },
    {
     "name": "stdout",
     "output_type": "stream",
     "text": [
      "Epoch 320\n"
     ]
    },
    {
     "name": "stderr",
     "output_type": "stream",
     "text": [
      "100%|███████████████████████████████████████████| 26/26 [17:07<00:00, 39.53s/it]\n",
      "100%|███████████████████████████████████████████| 26/26 [00:40<00:00,  1.55s/it]\n"
     ]
    },
    {
     "name": "stdout",
     "output_type": "stream",
     "text": [
      "Epoch 321\n"
     ]
    },
    {
     "name": "stderr",
     "output_type": "stream",
     "text": [
      "100%|███████████████████████████████████████████| 26/26 [16:54<00:00, 39.04s/it]\n",
      "100%|███████████████████████████████████████████| 26/26 [00:40<00:00,  1.57s/it]\n"
     ]
    },
    {
     "name": "stdout",
     "output_type": "stream",
     "text": [
      "Epoch 322\n"
     ]
    },
    {
     "name": "stderr",
     "output_type": "stream",
     "text": [
      "100%|███████████████████████████████████████████| 26/26 [16:55<00:00, 39.05s/it]\n",
      "100%|███████████████████████████████████████████| 26/26 [00:40<00:00,  1.55s/it]\n"
     ]
    },
    {
     "name": "stdout",
     "output_type": "stream",
     "text": [
      "Epoch 323\n"
     ]
    },
    {
     "name": "stderr",
     "output_type": "stream",
     "text": [
      "100%|███████████████████████████████████████████| 26/26 [17:00<00:00, 39.26s/it]\n",
      "100%|███████████████████████████████████████████| 26/26 [00:40<00:00,  1.57s/it]\n"
     ]
    },
    {
     "name": "stdout",
     "output_type": "stream",
     "text": [
      "Epoch 324\n"
     ]
    },
    {
     "name": "stderr",
     "output_type": "stream",
     "text": [
      "100%|███████████████████████████████████████████| 26/26 [17:08<00:00, 39.57s/it]\n",
      "100%|███████████████████████████████████████████| 26/26 [00:41<00:00,  1.59s/it]\n"
     ]
    },
    {
     "name": "stdout",
     "output_type": "stream",
     "text": [
      "Epoch 325\n"
     ]
    },
    {
     "name": "stderr",
     "output_type": "stream",
     "text": [
      "100%|███████████████████████████████████████████| 26/26 [17:01<00:00, 39.30s/it]\n",
      "100%|███████████████████████████████████████████| 26/26 [00:40<00:00,  1.57s/it]\n"
     ]
    },
    {
     "name": "stdout",
     "output_type": "stream",
     "text": [
      "Epoch 326\n"
     ]
    },
    {
     "name": "stderr",
     "output_type": "stream",
     "text": [
      "100%|███████████████████████████████████████████| 26/26 [17:00<00:00, 39.27s/it]\n",
      "100%|███████████████████████████████████████████| 26/26 [00:40<00:00,  1.56s/it]\n"
     ]
    },
    {
     "name": "stdout",
     "output_type": "stream",
     "text": [
      "Epoch 327\n"
     ]
    },
    {
     "name": "stderr",
     "output_type": "stream",
     "text": [
      "100%|███████████████████████████████████████████| 26/26 [16:56<00:00, 39.08s/it]\n",
      "100%|███████████████████████████████████████████| 26/26 [00:40<00:00,  1.56s/it]\n"
     ]
    },
    {
     "name": "stdout",
     "output_type": "stream",
     "text": [
      "Epoch 328\n"
     ]
    },
    {
     "name": "stderr",
     "output_type": "stream",
     "text": [
      "100%|███████████████████████████████████████████| 26/26 [17:03<00:00, 39.35s/it]\n",
      "100%|███████████████████████████████████████████| 26/26 [00:40<00:00,  1.57s/it]\n"
     ]
    },
    {
     "name": "stdout",
     "output_type": "stream",
     "text": [
      "Epoch 329\n"
     ]
    },
    {
     "name": "stderr",
     "output_type": "stream",
     "text": [
      "100%|███████████████████████████████████████████| 26/26 [17:05<00:00, 39.43s/it]\n",
      "100%|███████████████████████████████████████████| 26/26 [00:40<00:00,  1.55s/it]\n"
     ]
    },
    {
     "name": "stdout",
     "output_type": "stream",
     "text": [
      "Epoch 330\n"
     ]
    },
    {
     "name": "stderr",
     "output_type": "stream",
     "text": [
      "100%|███████████████████████████████████████████| 26/26 [16:54<00:00, 39.02s/it]\n",
      "100%|███████████████████████████████████████████| 26/26 [00:40<00:00,  1.56s/it]\n"
     ]
    },
    {
     "name": "stdout",
     "output_type": "stream",
     "text": [
      "Epoch 331\n"
     ]
    },
    {
     "name": "stderr",
     "output_type": "stream",
     "text": [
      "100%|███████████████████████████████████████████| 26/26 [17:00<00:00, 39.23s/it]\n",
      "100%|███████████████████████████████████████████| 26/26 [00:40<00:00,  1.56s/it]\n"
     ]
    },
    {
     "name": "stdout",
     "output_type": "stream",
     "text": [
      "Epoch 332\n"
     ]
    },
    {
     "name": "stderr",
     "output_type": "stream",
     "text": [
      "100%|███████████████████████████████████████████| 26/26 [16:55<00:00, 39.05s/it]\n",
      "100%|███████████████████████████████████████████| 26/26 [00:40<00:00,  1.56s/it]\n"
     ]
    },
    {
     "name": "stdout",
     "output_type": "stream",
     "text": [
      "Epoch 333\n"
     ]
    },
    {
     "name": "stderr",
     "output_type": "stream",
     "text": [
      "100%|███████████████████████████████████████████| 26/26 [17:04<00:00, 39.39s/it]\n",
      "100%|███████████████████████████████████████████| 26/26 [00:40<00:00,  1.56s/it]\n"
     ]
    },
    {
     "name": "stdout",
     "output_type": "stream",
     "text": [
      "Epoch 334\n"
     ]
    },
    {
     "name": "stderr",
     "output_type": "stream",
     "text": [
      "100%|███████████████████████████████████████████| 26/26 [16:55<00:00, 39.04s/it]\n",
      "100%|███████████████████████████████████████████| 26/26 [00:40<00:00,  1.56s/it]\n"
     ]
    },
    {
     "name": "stdout",
     "output_type": "stream",
     "text": [
      "Epoch 335\n"
     ]
    },
    {
     "name": "stderr",
     "output_type": "stream",
     "text": [
      "100%|███████████████████████████████████████████| 26/26 [17:05<00:00, 39.45s/it]\n",
      "100%|███████████████████████████████████████████| 26/26 [00:40<00:00,  1.57s/it]\n"
     ]
    },
    {
     "name": "stdout",
     "output_type": "stream",
     "text": [
      "Epoch 336\n"
     ]
    },
    {
     "name": "stderr",
     "output_type": "stream",
     "text": [
      "100%|███████████████████████████████████████████| 26/26 [17:02<00:00, 39.31s/it]\n",
      "100%|███████████████████████████████████████████| 26/26 [00:40<00:00,  1.55s/it]\n"
     ]
    },
    {
     "name": "stdout",
     "output_type": "stream",
     "text": [
      "Epoch 337\n"
     ]
    },
    {
     "name": "stderr",
     "output_type": "stream",
     "text": [
      "100%|███████████████████████████████████████████| 26/26 [16:53<00:00, 38.97s/it]\n",
      "100%|███████████████████████████████████████████| 26/26 [00:40<00:00,  1.55s/it]\n"
     ]
    },
    {
     "name": "stdout",
     "output_type": "stream",
     "text": [
      "Epoch 338\n"
     ]
    },
    {
     "name": "stderr",
     "output_type": "stream",
     "text": [
      "100%|███████████████████████████████████████████| 26/26 [16:51<00:00, 38.92s/it]\n",
      "100%|███████████████████████████████████████████| 26/26 [00:40<00:00,  1.56s/it]\n"
     ]
    },
    {
     "name": "stdout",
     "output_type": "stream",
     "text": [
      "Epoch 339\n"
     ]
    },
    {
     "name": "stderr",
     "output_type": "stream",
     "text": [
      "100%|███████████████████████████████████████████| 26/26 [17:04<00:00, 39.42s/it]\n",
      "100%|███████████████████████████████████████████| 26/26 [00:41<00:00,  1.59s/it]\n"
     ]
    },
    {
     "name": "stdout",
     "output_type": "stream",
     "text": [
      "Epoch 340\n"
     ]
    },
    {
     "name": "stderr",
     "output_type": "stream",
     "text": [
      "100%|███████████████████████████████████████████| 26/26 [17:05<00:00, 39.44s/it]\n",
      "100%|███████████████████████████████████████████| 26/26 [00:40<00:00,  1.56s/it]\n"
     ]
    },
    {
     "name": "stdout",
     "output_type": "stream",
     "text": [
      "Epoch 341\n"
     ]
    },
    {
     "name": "stderr",
     "output_type": "stream",
     "text": [
      "100%|███████████████████████████████████████████| 26/26 [17:00<00:00, 39.26s/it]\n",
      "100%|███████████████████████████████████████████| 26/26 [00:40<00:00,  1.56s/it]\n"
     ]
    },
    {
     "name": "stdout",
     "output_type": "stream",
     "text": [
      "Epoch 342\n"
     ]
    },
    {
     "name": "stderr",
     "output_type": "stream",
     "text": [
      "100%|███████████████████████████████████████████| 26/26 [16:48<00:00, 38.78s/it]\n",
      "100%|███████████████████████████████████████████| 26/26 [00:40<00:00,  1.55s/it]\n"
     ]
    },
    {
     "name": "stdout",
     "output_type": "stream",
     "text": [
      "Epoch 343\n"
     ]
    },
    {
     "name": "stderr",
     "output_type": "stream",
     "text": [
      "100%|███████████████████████████████████████████| 26/26 [16:55<00:00, 39.07s/it]\n",
      "100%|███████████████████████████████████████████| 26/26 [00:40<00:00,  1.55s/it]\n"
     ]
    },
    {
     "name": "stdout",
     "output_type": "stream",
     "text": [
      "Epoch 344\n"
     ]
    },
    {
     "name": "stderr",
     "output_type": "stream",
     "text": [
      "100%|███████████████████████████████████████████| 26/26 [17:02<00:00, 39.32s/it]\n",
      "100%|███████████████████████████████████████████| 26/26 [00:40<00:00,  1.56s/it]\n"
     ]
    },
    {
     "name": "stdout",
     "output_type": "stream",
     "text": [
      "Epoch 345\n"
     ]
    },
    {
     "name": "stderr",
     "output_type": "stream",
     "text": [
      "100%|███████████████████████████████████████████| 26/26 [17:01<00:00, 39.27s/it]\n",
      "100%|███████████████████████████████████████████| 26/26 [00:40<00:00,  1.57s/it]\n"
     ]
    },
    {
     "name": "stdout",
     "output_type": "stream",
     "text": [
      "Epoch 346\n"
     ]
    },
    {
     "name": "stderr",
     "output_type": "stream",
     "text": [
      "100%|███████████████████████████████████████████| 26/26 [16:48<00:00, 38.78s/it]\n",
      "100%|███████████████████████████████████████████| 26/26 [00:40<00:00,  1.56s/it]\n"
     ]
    },
    {
     "name": "stdout",
     "output_type": "stream",
     "text": [
      "Epoch 347\n"
     ]
    },
    {
     "name": "stderr",
     "output_type": "stream",
     "text": [
      "100%|███████████████████████████████████████████| 26/26 [16:50<00:00, 38.88s/it]\n",
      "100%|███████████████████████████████████████████| 26/26 [00:40<00:00,  1.54s/it]\n"
     ]
    },
    {
     "name": "stdout",
     "output_type": "stream",
     "text": [
      "Epoch 348\n"
     ]
    },
    {
     "name": "stderr",
     "output_type": "stream",
     "text": [
      "100%|███████████████████████████████████████████| 26/26 [17:00<00:00, 39.26s/it]\n",
      "100%|███████████████████████████████████████████| 26/26 [00:40<00:00,  1.55s/it]\n"
     ]
    },
    {
     "name": "stdout",
     "output_type": "stream",
     "text": [
      "Epoch 349\n"
     ]
    },
    {
     "name": "stderr",
     "output_type": "stream",
     "text": [
      "100%|███████████████████████████████████████████| 26/26 [17:01<00:00, 39.30s/it]\n",
      "100%|███████████████████████████████████████████| 26/26 [00:40<00:00,  1.56s/it]\n"
     ]
    },
    {
     "name": "stdout",
     "output_type": "stream",
     "text": [
      "Epoch 350\n"
     ]
    },
    {
     "name": "stderr",
     "output_type": "stream",
     "text": [
      "100%|███████████████████████████████████████████| 26/26 [16:49<00:00, 38.84s/it]\n",
      "100%|███████████████████████████████████████████| 26/26 [00:40<00:00,  1.57s/it]\n"
     ]
    },
    {
     "name": "stdout",
     "output_type": "stream",
     "text": [
      "Epoch 351\n"
     ]
    },
    {
     "name": "stderr",
     "output_type": "stream",
     "text": [
      "100%|███████████████████████████████████████████| 26/26 [16:43<00:00, 38.59s/it]\n",
      "100%|███████████████████████████████████████████| 26/26 [00:40<00:00,  1.55s/it]\n"
     ]
    },
    {
     "name": "stdout",
     "output_type": "stream",
     "text": [
      "Epoch 352\n"
     ]
    },
    {
     "name": "stderr",
     "output_type": "stream",
     "text": [
      "100%|███████████████████████████████████████████| 26/26 [16:51<00:00, 38.90s/it]\n",
      "100%|███████████████████████████████████████████| 26/26 [00:40<00:00,  1.55s/it]\n"
     ]
    },
    {
     "name": "stdout",
     "output_type": "stream",
     "text": [
      "Epoch 353\n"
     ]
    },
    {
     "name": "stderr",
     "output_type": "stream",
     "text": [
      "100%|███████████████████████████████████████████| 26/26 [17:01<00:00, 39.28s/it]\n",
      "100%|███████████████████████████████████████████| 26/26 [00:40<00:00,  1.55s/it]\n"
     ]
    },
    {
     "name": "stdout",
     "output_type": "stream",
     "text": [
      "Epoch 354\n"
     ]
    },
    {
     "name": "stderr",
     "output_type": "stream",
     "text": [
      "100%|███████████████████████████████████████████| 26/26 [16:57<00:00, 39.14s/it]\n",
      "100%|███████████████████████████████████████████| 26/26 [00:40<00:00,  1.55s/it]\n"
     ]
    },
    {
     "name": "stdout",
     "output_type": "stream",
     "text": [
      "Epoch 355\n"
     ]
    },
    {
     "name": "stderr",
     "output_type": "stream",
     "text": [
      "100%|███████████████████████████████████████████| 26/26 [16:50<00:00, 38.85s/it]\n",
      "100%|███████████████████████████████████████████| 26/26 [00:40<00:00,  1.56s/it]\n"
     ]
    },
    {
     "name": "stdout",
     "output_type": "stream",
     "text": [
      "Epoch 356\n"
     ]
    },
    {
     "name": "stderr",
     "output_type": "stream",
     "text": [
      "100%|███████████████████████████████████████████| 26/26 [16:51<00:00, 38.90s/it]\n",
      "100%|███████████████████████████████████████████| 26/26 [00:40<00:00,  1.56s/it]\n"
     ]
    },
    {
     "name": "stdout",
     "output_type": "stream",
     "text": [
      "Epoch 357\n"
     ]
    },
    {
     "name": "stderr",
     "output_type": "stream",
     "text": [
      "100%|███████████████████████████████████████████| 26/26 [17:00<00:00, 39.25s/it]\n",
      "100%|███████████████████████████████████████████| 26/26 [00:40<00:00,  1.56s/it]\n"
     ]
    },
    {
     "name": "stdout",
     "output_type": "stream",
     "text": [
      "Epoch 358\n"
     ]
    },
    {
     "name": "stderr",
     "output_type": "stream",
     "text": [
      "100%|███████████████████████████████████████████| 26/26 [17:05<00:00, 39.44s/it]\n",
      "100%|███████████████████████████████████████████| 26/26 [00:40<00:00,  1.57s/it]\n"
     ]
    },
    {
     "name": "stdout",
     "output_type": "stream",
     "text": [
      "Epoch 359\n"
     ]
    },
    {
     "name": "stderr",
     "output_type": "stream",
     "text": [
      "100%|███████████████████████████████████████████| 26/26 [16:52<00:00, 38.93s/it]\n",
      "100%|███████████████████████████████████████████| 26/26 [00:40<00:00,  1.57s/it]\n"
     ]
    },
    {
     "name": "stdout",
     "output_type": "stream",
     "text": [
      "Epoch 360\n"
     ]
    },
    {
     "name": "stderr",
     "output_type": "stream",
     "text": [
      "100%|███████████████████████████████████████████| 26/26 [16:55<00:00, 39.04s/it]\n",
      "100%|███████████████████████████████████████████| 26/26 [00:40<00:00,  1.54s/it]\n"
     ]
    },
    {
     "name": "stdout",
     "output_type": "stream",
     "text": [
      "Epoch 361\n"
     ]
    },
    {
     "name": "stderr",
     "output_type": "stream",
     "text": [
      "100%|███████████████████████████████████████████| 26/26 [16:53<00:00, 38.98s/it]\n",
      "100%|███████████████████████████████████████████| 26/26 [00:40<00:00,  1.56s/it]\n"
     ]
    },
    {
     "name": "stdout",
     "output_type": "stream",
     "text": [
      "Epoch 362\n"
     ]
    },
    {
     "name": "stderr",
     "output_type": "stream",
     "text": [
      "100%|███████████████████████████████████████████| 26/26 [17:01<00:00, 39.29s/it]\n",
      "100%|███████████████████████████████████████████| 26/26 [00:40<00:00,  1.56s/it]\n"
     ]
    },
    {
     "name": "stdout",
     "output_type": "stream",
     "text": [
      "Epoch 363\n"
     ]
    },
    {
     "name": "stderr",
     "output_type": "stream",
     "text": [
      "100%|███████████████████████████████████████████| 26/26 [16:49<00:00, 38.85s/it]\n",
      "100%|███████████████████████████████████████████| 26/26 [00:40<00:00,  1.56s/it]\n"
     ]
    },
    {
     "name": "stdout",
     "output_type": "stream",
     "text": [
      "Epoch 364\n"
     ]
    },
    {
     "name": "stderr",
     "output_type": "stream",
     "text": [
      "100%|███████████████████████████████████████████| 26/26 [17:00<00:00, 39.26s/it]\n",
      "100%|███████████████████████████████████████████| 26/26 [00:40<00:00,  1.57s/it]\n"
     ]
    },
    {
     "name": "stdout",
     "output_type": "stream",
     "text": [
      "Epoch 365\n"
     ]
    },
    {
     "name": "stderr",
     "output_type": "stream",
     "text": [
      "100%|███████████████████████████████████████████| 26/26 [16:53<00:00, 38.99s/it]\n",
      "100%|███████████████████████████████████████████| 26/26 [00:40<00:00,  1.56s/it]\n"
     ]
    },
    {
     "name": "stdout",
     "output_type": "stream",
     "text": [
      "Epoch 366\n"
     ]
    },
    {
     "name": "stderr",
     "output_type": "stream",
     "text": [
      "100%|███████████████████████████████████████████| 26/26 [16:52<00:00, 38.95s/it]\n",
      "100%|███████████████████████████████████████████| 26/26 [00:40<00:00,  1.55s/it]\n"
     ]
    },
    {
     "name": "stdout",
     "output_type": "stream",
     "text": [
      "Epoch 367\n"
     ]
    },
    {
     "name": "stderr",
     "output_type": "stream",
     "text": [
      "100%|███████████████████████████████████████████| 26/26 [16:48<00:00, 38.80s/it]\n",
      "100%|███████████████████████████████████████████| 26/26 [00:40<00:00,  1.55s/it]\n"
     ]
    },
    {
     "name": "stdout",
     "output_type": "stream",
     "text": [
      "Epoch 368\n"
     ]
    },
    {
     "name": "stderr",
     "output_type": "stream",
     "text": [
      "100%|███████████████████████████████████████████| 26/26 [16:46<00:00, 38.70s/it]\n",
      "100%|███████████████████████████████████████████| 26/26 [00:40<00:00,  1.55s/it]\n"
     ]
    },
    {
     "name": "stdout",
     "output_type": "stream",
     "text": [
      "Epoch 369\n"
     ]
    },
    {
     "name": "stderr",
     "output_type": "stream",
     "text": [
      "100%|███████████████████████████████████████████| 26/26 [17:05<00:00, 39.46s/it]\n",
      "100%|███████████████████████████████████████████| 26/26 [00:40<00:00,  1.55s/it]\n"
     ]
    },
    {
     "name": "stdout",
     "output_type": "stream",
     "text": [
      "Epoch 370\n"
     ]
    },
    {
     "name": "stderr",
     "output_type": "stream",
     "text": [
      "100%|███████████████████████████████████████████| 26/26 [16:48<00:00, 38.79s/it]\n",
      "100%|███████████████████████████████████████████| 26/26 [00:40<00:00,  1.54s/it]\n"
     ]
    },
    {
     "name": "stdout",
     "output_type": "stream",
     "text": [
      "Epoch 371\n"
     ]
    },
    {
     "name": "stderr",
     "output_type": "stream",
     "text": [
      "100%|███████████████████████████████████████████| 26/26 [16:42<00:00, 38.56s/it]\n",
      "100%|███████████████████████████████████████████| 26/26 [00:40<00:00,  1.55s/it]\n"
     ]
    },
    {
     "name": "stdout",
     "output_type": "stream",
     "text": [
      "Epoch 372\n"
     ]
    },
    {
     "name": "stderr",
     "output_type": "stream",
     "text": [
      "100%|███████████████████████████████████████████| 26/26 [16:46<00:00, 38.71s/it]\n",
      "100%|███████████████████████████████████████████| 26/26 [00:40<00:00,  1.55s/it]\n"
     ]
    },
    {
     "name": "stdout",
     "output_type": "stream",
     "text": [
      "Epoch 373\n"
     ]
    },
    {
     "name": "stderr",
     "output_type": "stream",
     "text": [
      "100%|███████████████████████████████████████████| 26/26 [16:56<00:00, 39.08s/it]\n",
      "100%|███████████████████████████████████████████| 26/26 [00:40<00:00,  1.55s/it]\n"
     ]
    },
    {
     "name": "stdout",
     "output_type": "stream",
     "text": [
      "Epoch 374\n"
     ]
    },
    {
     "name": "stderr",
     "output_type": "stream",
     "text": [
      "100%|███████████████████████████████████████████| 26/26 [16:56<00:00, 39.11s/it]\n",
      "100%|███████████████████████████████████████████| 26/26 [00:40<00:00,  1.56s/it]\n"
     ]
    },
    {
     "name": "stdout",
     "output_type": "stream",
     "text": [
      "Epoch 375\n"
     ]
    },
    {
     "name": "stderr",
     "output_type": "stream",
     "text": [
      "100%|███████████████████████████████████████████| 26/26 [16:43<00:00, 38.60s/it]\n",
      "100%|███████████████████████████████████████████| 26/26 [00:40<00:00,  1.54s/it]\n"
     ]
    },
    {
     "name": "stdout",
     "output_type": "stream",
     "text": [
      "Epoch 376\n"
     ]
    },
    {
     "name": "stderr",
     "output_type": "stream",
     "text": [
      "100%|███████████████████████████████████████████| 26/26 [16:46<00:00, 38.69s/it]\n",
      "100%|███████████████████████████████████████████| 26/26 [00:40<00:00,  1.54s/it]\n"
     ]
    },
    {
     "name": "stdout",
     "output_type": "stream",
     "text": [
      "Epoch 377\n"
     ]
    },
    {
     "name": "stderr",
     "output_type": "stream",
     "text": [
      "100%|███████████████████████████████████████████| 26/26 [16:54<00:00, 39.02s/it]\n",
      "100%|███████████████████████████████████████████| 26/26 [00:40<00:00,  1.55s/it]\n"
     ]
    },
    {
     "name": "stdout",
     "output_type": "stream",
     "text": [
      "Epoch 378\n"
     ]
    },
    {
     "name": "stderr",
     "output_type": "stream",
     "text": [
      "100%|███████████████████████████████████████████| 26/26 [16:57<00:00, 39.13s/it]\n",
      "100%|███████████████████████████████████████████| 26/26 [00:40<00:00,  1.56s/it]\n"
     ]
    },
    {
     "name": "stdout",
     "output_type": "stream",
     "text": [
      "Epoch 379\n"
     ]
    },
    {
     "name": "stderr",
     "output_type": "stream",
     "text": [
      "100%|███████████████████████████████████████████| 26/26 [16:49<00:00, 38.85s/it]\n",
      "100%|███████████████████████████████████████████| 26/26 [00:37<00:00,  1.46s/it]\n"
     ]
    },
    {
     "name": "stdout",
     "output_type": "stream",
     "text": [
      "Epoch 380\n"
     ]
    },
    {
     "name": "stderr",
     "output_type": "stream",
     "text": [
      "100%|███████████████████████████████████████████| 26/26 [16:42<00:00, 38.55s/it]\n",
      "100%|███████████████████████████████████████████| 26/26 [00:40<00:00,  1.54s/it]\n"
     ]
    },
    {
     "name": "stdout",
     "output_type": "stream",
     "text": [
      "Epoch 381\n"
     ]
    },
    {
     "name": "stderr",
     "output_type": "stream",
     "text": [
      "100%|███████████████████████████████████████████| 26/26 [16:48<00:00, 38.81s/it]\n",
      "100%|███████████████████████████████████████████| 26/26 [00:40<00:00,  1.56s/it]\n"
     ]
    },
    {
     "name": "stdout",
     "output_type": "stream",
     "text": [
      "Epoch 382\n"
     ]
    },
    {
     "name": "stderr",
     "output_type": "stream",
     "text": [
      "100%|███████████████████████████████████████████| 26/26 [16:56<00:00, 39.10s/it]\n",
      "100%|███████████████████████████████████████████| 26/26 [00:39<00:00,  1.53s/it]\n"
     ]
    },
    {
     "name": "stdout",
     "output_type": "stream",
     "text": [
      "Epoch 383\n"
     ]
    },
    {
     "name": "stderr",
     "output_type": "stream",
     "text": [
      "100%|███████████████████████████████████████████| 26/26 [16:53<00:00, 38.96s/it]\n",
      "100%|███████████████████████████████████████████| 26/26 [00:40<00:00,  1.54s/it]\n"
     ]
    },
    {
     "name": "stdout",
     "output_type": "stream",
     "text": [
      "Epoch 384\n"
     ]
    },
    {
     "name": "stderr",
     "output_type": "stream",
     "text": [
      "100%|███████████████████████████████████████████| 26/26 [16:41<00:00, 38.53s/it]\n",
      "100%|███████████████████████████████████████████| 26/26 [00:40<00:00,  1.54s/it]\n"
     ]
    },
    {
     "name": "stdout",
     "output_type": "stream",
     "text": [
      "Epoch 385\n"
     ]
    },
    {
     "name": "stderr",
     "output_type": "stream",
     "text": [
      "100%|███████████████████████████████████████████| 26/26 [16:43<00:00, 38.60s/it]\n",
      "100%|███████████████████████████████████████████| 26/26 [00:40<00:00,  1.55s/it]\n"
     ]
    },
    {
     "name": "stdout",
     "output_type": "stream",
     "text": [
      "Epoch 386\n"
     ]
    },
    {
     "name": "stderr",
     "output_type": "stream",
     "text": [
      "100%|███████████████████████████████████████████| 26/26 [16:54<00:00, 39.03s/it]\n",
      "100%|███████████████████████████████████████████| 26/26 [00:40<00:00,  1.55s/it]\n"
     ]
    },
    {
     "name": "stdout",
     "output_type": "stream",
     "text": [
      "Epoch 387\n"
     ]
    },
    {
     "name": "stderr",
     "output_type": "stream",
     "text": [
      "100%|███████████████████████████████████████████| 26/26 [16:55<00:00, 39.08s/it]\n",
      "100%|███████████████████████████████████████████| 26/26 [00:40<00:00,  1.54s/it]\n"
     ]
    },
    {
     "name": "stdout",
     "output_type": "stream",
     "text": [
      "Epoch 388\n"
     ]
    },
    {
     "name": "stderr",
     "output_type": "stream",
     "text": [
      "100%|███████████████████████████████████████████| 26/26 [16:41<00:00, 38.52s/it]\n",
      "100%|███████████████████████████████████████████| 26/26 [00:40<00:00,  1.56s/it]\n"
     ]
    },
    {
     "name": "stdout",
     "output_type": "stream",
     "text": [
      "Epoch 389\n"
     ]
    },
    {
     "name": "stderr",
     "output_type": "stream",
     "text": [
      "100%|███████████████████████████████████████████| 26/26 [16:46<00:00, 38.69s/it]\n",
      "100%|███████████████████████████████████████████| 26/26 [00:40<00:00,  1.54s/it]\n"
     ]
    },
    {
     "name": "stdout",
     "output_type": "stream",
     "text": [
      "Epoch 390\n"
     ]
    },
    {
     "name": "stderr",
     "output_type": "stream",
     "text": [
      "100%|███████████████████████████████████████████| 26/26 [16:48<00:00, 38.78s/it]\n",
      "100%|███████████████████████████████████████████| 26/26 [00:40<00:00,  1.55s/it]\n"
     ]
    },
    {
     "name": "stdout",
     "output_type": "stream",
     "text": [
      "Epoch 391\n"
     ]
    },
    {
     "name": "stderr",
     "output_type": "stream",
     "text": [
      "100%|███████████████████████████████████████████| 26/26 [16:54<00:00, 39.02s/it]\n",
      "100%|███████████████████████████████████████████| 26/26 [00:40<00:00,  1.54s/it]\n"
     ]
    },
    {
     "name": "stdout",
     "output_type": "stream",
     "text": [
      "Epoch 392\n"
     ]
    },
    {
     "name": "stderr",
     "output_type": "stream",
     "text": [
      "100%|███████████████████████████████████████████| 26/26 [16:43<00:00, 38.59s/it]\n",
      "100%|███████████████████████████████████████████| 26/26 [00:40<00:00,  1.55s/it]\n"
     ]
    },
    {
     "name": "stdout",
     "output_type": "stream",
     "text": [
      "Epoch 393\n"
     ]
    },
    {
     "name": "stderr",
     "output_type": "stream",
     "text": [
      "100%|███████████████████████████████████████████| 26/26 [16:47<00:00, 38.75s/it]\n",
      "100%|███████████████████████████████████████████| 26/26 [00:40<00:00,  1.56s/it]\n"
     ]
    },
    {
     "name": "stdout",
     "output_type": "stream",
     "text": [
      "Epoch 394\n"
     ]
    },
    {
     "name": "stderr",
     "output_type": "stream",
     "text": [
      "100%|███████████████████████████████████████████| 26/26 [16:45<00:00, 38.66s/it]\n",
      "100%|███████████████████████████████████████████| 26/26 [00:40<00:00,  1.55s/it]\n"
     ]
    },
    {
     "name": "stdout",
     "output_type": "stream",
     "text": [
      "Epoch 395\n"
     ]
    },
    {
     "name": "stderr",
     "output_type": "stream",
     "text": [
      "100%|███████████████████████████████████████████| 26/26 [16:49<00:00, 38.82s/it]\n",
      "100%|███████████████████████████████████████████| 26/26 [00:40<00:00,  1.54s/it]\n"
     ]
    },
    {
     "name": "stdout",
     "output_type": "stream",
     "text": [
      "Epoch 396\n"
     ]
    },
    {
     "name": "stderr",
     "output_type": "stream",
     "text": [
      "100%|███████████████████████████████████████████| 26/26 [16:47<00:00, 38.76s/it]\n",
      "100%|███████████████████████████████████████████| 26/26 [00:40<00:00,  1.55s/it]\n"
     ]
    },
    {
     "name": "stdout",
     "output_type": "stream",
     "text": [
      "Epoch 397\n"
     ]
    },
    {
     "name": "stderr",
     "output_type": "stream",
     "text": [
      "100%|███████████████████████████████████████████| 26/26 [16:47<00:00, 38.76s/it]\n",
      "100%|███████████████████████████████████████████| 26/26 [00:40<00:00,  1.55s/it]\n"
     ]
    },
    {
     "name": "stdout",
     "output_type": "stream",
     "text": [
      "Epoch 398\n"
     ]
    },
    {
     "name": "stderr",
     "output_type": "stream",
     "text": [
      "100%|███████████████████████████████████████████| 26/26 [16:52<00:00, 38.95s/it]\n",
      "100%|███████████████████████████████████████████| 26/26 [00:40<00:00,  1.56s/it]\n"
     ]
    },
    {
     "name": "stdout",
     "output_type": "stream",
     "text": [
      "Epoch 399\n"
     ]
    },
    {
     "name": "stderr",
     "output_type": "stream",
     "text": [
      "100%|███████████████████████████████████████████| 26/26 [16:49<00:00, 38.84s/it]\n",
      "100%|███████████████████████████████████████████| 26/26 [00:40<00:00,  1.56s/it]\n"
     ]
    },
    {
     "name": "stdout",
     "output_type": "stream",
     "text": [
      "Epoch 400\n"
     ]
    },
    {
     "name": "stderr",
     "output_type": "stream",
     "text": [
      "100%|███████████████████████████████████████████| 26/26 [16:47<00:00, 38.76s/it]\n",
      "100%|███████████████████████████████████████████| 26/26 [00:40<00:00,  1.54s/it]\n"
     ]
    },
    {
     "name": "stdout",
     "output_type": "stream",
     "text": [
      "Epoch 401\n"
     ]
    },
    {
     "name": "stderr",
     "output_type": "stream",
     "text": [
      "100%|███████████████████████████████████████████| 26/26 [16:45<00:00, 38.68s/it]\n",
      "100%|███████████████████████████████████████████| 26/26 [00:40<00:00,  1.56s/it]\n"
     ]
    },
    {
     "name": "stdout",
     "output_type": "stream",
     "text": [
      "Epoch 402\n"
     ]
    },
    {
     "name": "stderr",
     "output_type": "stream",
     "text": [
      "100%|███████████████████████████████████████████| 26/26 [16:59<00:00, 39.19s/it]\n",
      "100%|███████████████████████████████████████████| 26/26 [00:40<00:00,  1.56s/it]\n"
     ]
    },
    {
     "name": "stdout",
     "output_type": "stream",
     "text": [
      "Epoch 403\n"
     ]
    },
    {
     "name": "stderr",
     "output_type": "stream",
     "text": [
      "100%|███████████████████████████████████████████| 26/26 [16:58<00:00, 39.16s/it]\n",
      "100%|███████████████████████████████████████████| 26/26 [00:40<00:00,  1.55s/it]\n"
     ]
    },
    {
     "name": "stdout",
     "output_type": "stream",
     "text": [
      "Epoch 404\n"
     ]
    },
    {
     "name": "stderr",
     "output_type": "stream",
     "text": [
      "100%|███████████████████████████████████████████| 26/26 [16:46<00:00, 38.70s/it]\n",
      "100%|███████████████████████████████████████████| 26/26 [00:40<00:00,  1.56s/it]\n"
     ]
    },
    {
     "name": "stdout",
     "output_type": "stream",
     "text": [
      "Epoch 405\n"
     ]
    },
    {
     "name": "stderr",
     "output_type": "stream",
     "text": [
      "100%|███████████████████████████████████████████| 26/26 [16:46<00:00, 38.72s/it]\n",
      "100%|███████████████████████████████████████████| 26/26 [00:40<00:00,  1.54s/it]\n"
     ]
    },
    {
     "name": "stdout",
     "output_type": "stream",
     "text": [
      "Epoch 406\n"
     ]
    },
    {
     "name": "stderr",
     "output_type": "stream",
     "text": [
      "100%|███████████████████████████████████████████| 26/26 [16:56<00:00, 39.11s/it]\n",
      "100%|███████████████████████████████████████████| 26/26 [00:40<00:00,  1.55s/it]\n"
     ]
    },
    {
     "name": "stdout",
     "output_type": "stream",
     "text": [
      "Epoch 407\n"
     ]
    },
    {
     "name": "stderr",
     "output_type": "stream",
     "text": [
      "100%|███████████████████████████████████████████| 26/26 [17:00<00:00, 39.24s/it]\n",
      "100%|███████████████████████████████████████████| 26/26 [00:40<00:00,  1.57s/it]\n"
     ]
    },
    {
     "name": "stdout",
     "output_type": "stream",
     "text": [
      "Epoch 408\n"
     ]
    },
    {
     "name": "stderr",
     "output_type": "stream",
     "text": [
      "100%|███████████████████████████████████████████| 26/26 [17:00<00:00, 39.26s/it]\n",
      "100%|███████████████████████████████████████████| 26/26 [00:40<00:00,  1.57s/it]\n"
     ]
    },
    {
     "name": "stdout",
     "output_type": "stream",
     "text": [
      "Epoch 409\n"
     ]
    },
    {
     "name": "stderr",
     "output_type": "stream",
     "text": [
      "100%|███████████████████████████████████████████| 26/26 [16:44<00:00, 38.65s/it]\n",
      "100%|███████████████████████████████████████████| 26/26 [00:40<00:00,  1.55s/it]\n"
     ]
    },
    {
     "name": "stdout",
     "output_type": "stream",
     "text": [
      "Epoch 410\n"
     ]
    },
    {
     "name": "stderr",
     "output_type": "stream",
     "text": [
      "100%|███████████████████████████████████████████| 26/26 [16:52<00:00, 38.93s/it]\n",
      "100%|███████████████████████████████████████████| 26/26 [00:40<00:00,  1.55s/it]\n"
     ]
    },
    {
     "name": "stdout",
     "output_type": "stream",
     "text": [
      "Epoch 411\n"
     ]
    },
    {
     "name": "stderr",
     "output_type": "stream",
     "text": [
      "100%|███████████████████████████████████████████| 26/26 [16:58<00:00, 39.16s/it]\n",
      "100%|███████████████████████████████████████████| 26/26 [00:39<00:00,  1.54s/it]\n"
     ]
    },
    {
     "name": "stdout",
     "output_type": "stream",
     "text": [
      "Epoch 412\n"
     ]
    },
    {
     "name": "stderr",
     "output_type": "stream",
     "text": [
      "100%|███████████████████████████████████████████| 26/26 [16:58<00:00, 39.16s/it]\n",
      "100%|███████████████████████████████████████████| 26/26 [00:40<00:00,  1.55s/it]\n"
     ]
    },
    {
     "name": "stdout",
     "output_type": "stream",
     "text": [
      "Epoch 413\n"
     ]
    },
    {
     "name": "stderr",
     "output_type": "stream",
     "text": [
      "100%|███████████████████████████████████████████| 26/26 [16:43<00:00, 38.58s/it]\n",
      "100%|███████████████████████████████████████████| 26/26 [00:40<00:00,  1.57s/it]\n"
     ]
    },
    {
     "name": "stdout",
     "output_type": "stream",
     "text": [
      "Epoch 414\n"
     ]
    },
    {
     "name": "stderr",
     "output_type": "stream",
     "text": [
      "100%|███████████████████████████████████████████| 26/26 [16:48<00:00, 38.78s/it]\n",
      "100%|███████████████████████████████████████████| 26/26 [00:40<00:00,  1.54s/it]\n"
     ]
    },
    {
     "name": "stdout",
     "output_type": "stream",
     "text": [
      "Epoch 415\n"
     ]
    },
    {
     "name": "stderr",
     "output_type": "stream",
     "text": [
      "100%|███████████████████████████████████████████| 26/26 [16:56<00:00, 39.09s/it]\n",
      "100%|███████████████████████████████████████████| 26/26 [00:40<00:00,  1.54s/it]\n"
     ]
    },
    {
     "name": "stdout",
     "output_type": "stream",
     "text": [
      "Epoch 416\n"
     ]
    },
    {
     "name": "stderr",
     "output_type": "stream",
     "text": [
      "100%|███████████████████████████████████████████| 26/26 [17:02<00:00, 39.31s/it]\n",
      "100%|███████████████████████████████████████████| 26/26 [00:40<00:00,  1.55s/it]\n"
     ]
    },
    {
     "name": "stdout",
     "output_type": "stream",
     "text": [
      "Epoch 417\n"
     ]
    },
    {
     "name": "stderr",
     "output_type": "stream",
     "text": [
      "100%|███████████████████████████████████████████| 26/26 [16:46<00:00, 38.72s/it]\n",
      "100%|███████████████████████████████████████████| 26/26 [00:40<00:00,  1.58s/it]\n"
     ]
    },
    {
     "name": "stdout",
     "output_type": "stream",
     "text": [
      "Epoch 418\n"
     ]
    },
    {
     "name": "stderr",
     "output_type": "stream",
     "text": [
      "100%|███████████████████████████████████████████| 26/26 [16:52<00:00, 38.94s/it]\n",
      "100%|███████████████████████████████████████████| 26/26 [00:40<00:00,  1.55s/it]\n"
     ]
    },
    {
     "name": "stdout",
     "output_type": "stream",
     "text": [
      "Epoch 419\n"
     ]
    },
    {
     "name": "stderr",
     "output_type": "stream",
     "text": [
      "100%|███████████████████████████████████████████| 26/26 [16:55<00:00, 39.04s/it]\n",
      "100%|███████████████████████████████████████████| 26/26 [00:40<00:00,  1.56s/it]\n"
     ]
    },
    {
     "name": "stdout",
     "output_type": "stream",
     "text": [
      "Epoch 420\n"
     ]
    },
    {
     "name": "stderr",
     "output_type": "stream",
     "text": [
      "100%|███████████████████████████████████████████| 26/26 [16:59<00:00, 39.20s/it]\n",
      "100%|███████████████████████████████████████████| 26/26 [00:40<00:00,  1.55s/it]\n"
     ]
    },
    {
     "name": "stdout",
     "output_type": "stream",
     "text": [
      "Epoch 421\n"
     ]
    },
    {
     "name": "stderr",
     "output_type": "stream",
     "text": [
      "100%|███████████████████████████████████████████| 26/26 [16:53<00:00, 38.98s/it]\n",
      "100%|███████████████████████████████████████████| 26/26 [00:41<00:00,  1.59s/it]\n"
     ]
    },
    {
     "name": "stdout",
     "output_type": "stream",
     "text": [
      "Epoch 422\n"
     ]
    },
    {
     "name": "stderr",
     "output_type": "stream",
     "text": [
      "100%|███████████████████████████████████████████| 26/26 [16:54<00:00, 39.01s/it]\n",
      "100%|███████████████████████████████████████████| 26/26 [00:40<00:00,  1.56s/it]\n"
     ]
    },
    {
     "name": "stdout",
     "output_type": "stream",
     "text": [
      "Epoch 423\n"
     ]
    },
    {
     "name": "stderr",
     "output_type": "stream",
     "text": [
      "100%|███████████████████████████████████████████| 26/26 [16:48<00:00, 38.77s/it]\n",
      "100%|███████████████████████████████████████████| 26/26 [00:40<00:00,  1.56s/it]\n"
     ]
    },
    {
     "name": "stdout",
     "output_type": "stream",
     "text": [
      "Epoch 424\n"
     ]
    },
    {
     "name": "stderr",
     "output_type": "stream",
     "text": [
      "100%|███████████████████████████████████████████| 26/26 [16:53<00:00, 38.99s/it]\n",
      "100%|███████████████████████████████████████████| 26/26 [00:40<00:00,  1.55s/it]\n"
     ]
    },
    {
     "name": "stdout",
     "output_type": "stream",
     "text": [
      "Epoch 425\n"
     ]
    },
    {
     "name": "stderr",
     "output_type": "stream",
     "text": [
      "100%|███████████████████████████████████████████| 26/26 [16:59<00:00, 39.21s/it]\n",
      "100%|███████████████████████████████████████████| 26/26 [00:40<00:00,  1.56s/it]\n"
     ]
    },
    {
     "name": "stdout",
     "output_type": "stream",
     "text": [
      "Epoch 426\n"
     ]
    },
    {
     "name": "stderr",
     "output_type": "stream",
     "text": [
      "100%|███████████████████████████████████████████| 26/26 [16:50<00:00, 38.87s/it]\n",
      "100%|███████████████████████████████████████████| 26/26 [00:40<00:00,  1.56s/it]\n"
     ]
    },
    {
     "name": "stdout",
     "output_type": "stream",
     "text": [
      "Epoch 427\n"
     ]
    },
    {
     "name": "stderr",
     "output_type": "stream",
     "text": [
      "100%|███████████████████████████████████████████| 26/26 [16:55<00:00, 39.04s/it]\n",
      "100%|███████████████████████████████████████████| 26/26 [00:40<00:00,  1.56s/it]\n"
     ]
    },
    {
     "name": "stdout",
     "output_type": "stream",
     "text": [
      "Epoch 428\n"
     ]
    },
    {
     "name": "stderr",
     "output_type": "stream",
     "text": [
      "100%|███████████████████████████████████████████| 26/26 [16:46<00:00, 38.72s/it]\n",
      "100%|███████████████████████████████████████████| 26/26 [00:40<00:00,  1.56s/it]\n"
     ]
    },
    {
     "name": "stdout",
     "output_type": "stream",
     "text": [
      "Epoch 429\n"
     ]
    },
    {
     "name": "stderr",
     "output_type": "stream",
     "text": [
      "100%|███████████████████████████████████████████| 26/26 [16:51<00:00, 38.89s/it]\n",
      "100%|███████████████████████████████████████████| 26/26 [00:40<00:00,  1.55s/it]\n"
     ]
    },
    {
     "name": "stdout",
     "output_type": "stream",
     "text": [
      "Epoch 430\n"
     ]
    },
    {
     "name": "stderr",
     "output_type": "stream",
     "text": [
      "100%|███████████████████████████████████████████| 26/26 [16:49<00:00, 38.84s/it]\n",
      "100%|███████████████████████████████████████████| 26/26 [00:40<00:00,  1.55s/it]\n"
     ]
    },
    {
     "name": "stdout",
     "output_type": "stream",
     "text": [
      "Epoch 431\n"
     ]
    },
    {
     "name": "stderr",
     "output_type": "stream",
     "text": [
      "100%|███████████████████████████████████████████| 26/26 [16:56<00:00, 39.11s/it]\n",
      "100%|███████████████████████████████████████████| 26/26 [00:40<00:00,  1.55s/it]\n"
     ]
    },
    {
     "name": "stdout",
     "output_type": "stream",
     "text": [
      "Epoch 432\n"
     ]
    },
    {
     "name": "stderr",
     "output_type": "stream",
     "text": [
      "100%|███████████████████████████████████████████| 26/26 [16:58<00:00, 39.18s/it]\n",
      "100%|███████████████████████████████████████████| 26/26 [00:39<00:00,  1.54s/it]\n"
     ]
    },
    {
     "name": "stdout",
     "output_type": "stream",
     "text": [
      "Epoch 433\n"
     ]
    },
    {
     "name": "stderr",
     "output_type": "stream",
     "text": [
      "100%|███████████████████████████████████████████| 26/26 [16:45<00:00, 38.67s/it]\n",
      "100%|███████████████████████████████████████████| 26/26 [00:40<00:00,  1.55s/it]\n"
     ]
    },
    {
     "name": "stdout",
     "output_type": "stream",
     "text": [
      "Epoch 434\n"
     ]
    },
    {
     "name": "stderr",
     "output_type": "stream",
     "text": [
      "100%|███████████████████████████████████████████| 26/26 [16:46<00:00, 38.71s/it]\n",
      "100%|███████████████████████████████████████████| 26/26 [00:40<00:00,  1.55s/it]\n"
     ]
    },
    {
     "name": "stdout",
     "output_type": "stream",
     "text": [
      "Epoch 435\n"
     ]
    },
    {
     "name": "stderr",
     "output_type": "stream",
     "text": [
      "100%|███████████████████████████████████████████| 26/26 [16:55<00:00, 39.04s/it]\n",
      "100%|███████████████████████████████████████████| 26/26 [00:40<00:00,  1.54s/it]\n"
     ]
    },
    {
     "name": "stdout",
     "output_type": "stream",
     "text": [
      "Epoch 436\n"
     ]
    },
    {
     "name": "stderr",
     "output_type": "stream",
     "text": [
      "100%|███████████████████████████████████████████| 26/26 [17:00<00:00, 39.24s/it]\n",
      "100%|███████████████████████████████████████████| 26/26 [00:40<00:00,  1.55s/it]\n"
     ]
    },
    {
     "name": "stdout",
     "output_type": "stream",
     "text": [
      "Epoch 437\n"
     ]
    },
    {
     "name": "stderr",
     "output_type": "stream",
     "text": [
      "100%|███████████████████████████████████████████| 26/26 [16:59<00:00, 39.23s/it]\n",
      "100%|███████████████████████████████████████████| 26/26 [00:37<00:00,  1.46s/it]\n"
     ]
    },
    {
     "name": "stdout",
     "output_type": "stream",
     "text": [
      "Epoch 438\n"
     ]
    },
    {
     "name": "stderr",
     "output_type": "stream",
     "text": [
      "100%|███████████████████████████████████████████| 26/26 [16:45<00:00, 38.68s/it]\n",
      "100%|███████████████████████████████████████████| 26/26 [00:40<00:00,  1.54s/it]\n"
     ]
    },
    {
     "name": "stdout",
     "output_type": "stream",
     "text": [
      "Epoch 439\n"
     ]
    },
    {
     "name": "stderr",
     "output_type": "stream",
     "text": [
      "100%|███████████████████████████████████████████| 26/26 [16:48<00:00, 38.80s/it]\n",
      "100%|███████████████████████████████████████████| 26/26 [00:40<00:00,  1.54s/it]\n"
     ]
    },
    {
     "name": "stdout",
     "output_type": "stream",
     "text": [
      "Epoch 440\n"
     ]
    },
    {
     "name": "stderr",
     "output_type": "stream",
     "text": [
      "100%|███████████████████████████████████████████| 26/26 [16:57<00:00, 39.14s/it]\n",
      "100%|███████████████████████████████████████████| 26/26 [00:40<00:00,  1.54s/it]\n"
     ]
    },
    {
     "name": "stdout",
     "output_type": "stream",
     "text": [
      "Epoch 441\n"
     ]
    },
    {
     "name": "stderr",
     "output_type": "stream",
     "text": [
      "100%|███████████████████████████████████████████| 26/26 [16:57<00:00, 39.14s/it]\n",
      "100%|███████████████████████████████████████████| 26/26 [00:41<00:00,  1.58s/it]\n"
     ]
    },
    {
     "name": "stdout",
     "output_type": "stream",
     "text": [
      "Epoch 442\n"
     ]
    },
    {
     "name": "stderr",
     "output_type": "stream",
     "text": [
      "100%|███████████████████████████████████████████| 26/26 [16:39<00:00, 38.46s/it]\n",
      "100%|███████████████████████████████████████████| 26/26 [00:40<00:00,  1.54s/it]\n"
     ]
    },
    {
     "name": "stdout",
     "output_type": "stream",
     "text": [
      "Epoch 443\n"
     ]
    },
    {
     "name": "stderr",
     "output_type": "stream",
     "text": [
      "100%|███████████████████████████████████████████| 26/26 [16:44<00:00, 38.65s/it]\n",
      "100%|███████████████████████████████████████████| 26/26 [00:39<00:00,  1.54s/it]\n"
     ]
    },
    {
     "name": "stdout",
     "output_type": "stream",
     "text": [
      "Epoch 444\n"
     ]
    },
    {
     "name": "stderr",
     "output_type": "stream",
     "text": [
      "100%|███████████████████████████████████████████| 26/26 [16:50<00:00, 38.87s/it]\n",
      "100%|███████████████████████████████████████████| 26/26 [00:39<00:00,  1.54s/it]\n"
     ]
    },
    {
     "name": "stdout",
     "output_type": "stream",
     "text": [
      "Epoch 445\n"
     ]
    },
    {
     "name": "stderr",
     "output_type": "stream",
     "text": [
      "100%|███████████████████████████████████████████| 26/26 [16:57<00:00, 39.13s/it]\n",
      "100%|███████████████████████████████████████████| 26/26 [00:40<00:00,  1.54s/it]\n"
     ]
    },
    {
     "name": "stdout",
     "output_type": "stream",
     "text": [
      "Epoch 446\n"
     ]
    },
    {
     "name": "stderr",
     "output_type": "stream",
     "text": [
      "100%|███████████████████████████████████████████| 26/26 [16:41<00:00, 38.54s/it]\n",
      "100%|███████████████████████████████████████████| 26/26 [00:40<00:00,  1.55s/it]\n"
     ]
    },
    {
     "name": "stdout",
     "output_type": "stream",
     "text": [
      "Epoch 447\n"
     ]
    },
    {
     "name": "stderr",
     "output_type": "stream",
     "text": [
      "100%|███████████████████████████████████████████| 26/26 [16:42<00:00, 38.56s/it]\n",
      "100%|███████████████████████████████████████████| 26/26 [00:40<00:00,  1.55s/it]\n"
     ]
    },
    {
     "name": "stdout",
     "output_type": "stream",
     "text": [
      "Epoch 448\n"
     ]
    },
    {
     "name": "stderr",
     "output_type": "stream",
     "text": [
      "100%|███████████████████████████████████████████| 26/26 [16:44<00:00, 38.64s/it]\n",
      "100%|███████████████████████████████████████████| 26/26 [00:40<00:00,  1.54s/it]\n"
     ]
    },
    {
     "name": "stdout",
     "output_type": "stream",
     "text": [
      "Epoch 449\n"
     ]
    },
    {
     "name": "stderr",
     "output_type": "stream",
     "text": [
      "100%|███████████████████████████████████████████| 26/26 [16:55<00:00, 39.04s/it]\n",
      "100%|███████████████████████████████████████████| 26/26 [00:40<00:00,  1.55s/it]\n"
     ]
    },
    {
     "name": "stdout",
     "output_type": "stream",
     "text": [
      "Epoch 450\n"
     ]
    },
    {
     "name": "stderr",
     "output_type": "stream",
     "text": [
      "100%|███████████████████████████████████████████| 26/26 [16:48<00:00, 38.79s/it]\n",
      "100%|███████████████████████████████████████████| 26/26 [00:40<00:00,  1.54s/it]\n"
     ]
    },
    {
     "name": "stdout",
     "output_type": "stream",
     "text": [
      "Epoch 451\n"
     ]
    },
    {
     "name": "stderr",
     "output_type": "stream",
     "text": [
      "100%|███████████████████████████████████████████| 26/26 [16:44<00:00, 38.62s/it]\n",
      "100%|███████████████████████████████████████████| 26/26 [00:40<00:00,  1.55s/it]\n"
     ]
    },
    {
     "name": "stdout",
     "output_type": "stream",
     "text": [
      "Epoch 452\n"
     ]
    },
    {
     "name": "stderr",
     "output_type": "stream",
     "text": [
      "100%|███████████████████████████████████████████| 26/26 [16:40<00:00, 38.46s/it]\n",
      "100%|███████████████████████████████████████████| 26/26 [00:39<00:00,  1.54s/it]\n"
     ]
    },
    {
     "name": "stdout",
     "output_type": "stream",
     "text": [
      "Epoch 453\n"
     ]
    },
    {
     "name": "stderr",
     "output_type": "stream",
     "text": [
      "100%|███████████████████████████████████████████| 26/26 [16:46<00:00, 38.69s/it]\n",
      "100%|███████████████████████████████████████████| 26/26 [00:40<00:00,  1.55s/it]\n"
     ]
    },
    {
     "name": "stdout",
     "output_type": "stream",
     "text": [
      "Epoch 454\n"
     ]
    },
    {
     "name": "stderr",
     "output_type": "stream",
     "text": [
      "100%|███████████████████████████████████████████| 26/26 [16:51<00:00, 38.90s/it]\n",
      "100%|███████████████████████████████████████████| 26/26 [00:40<00:00,  1.55s/it]\n"
     ]
    },
    {
     "name": "stdout",
     "output_type": "stream",
     "text": [
      "Epoch 455\n"
     ]
    },
    {
     "name": "stderr",
     "output_type": "stream",
     "text": [
      "100%|███████████████████████████████████████████| 26/26 [16:41<00:00, 38.52s/it]\n",
      "100%|███████████████████████████████████████████| 26/26 [00:40<00:00,  1.55s/it]\n"
     ]
    },
    {
     "name": "stdout",
     "output_type": "stream",
     "text": [
      "Epoch 456\n"
     ]
    },
    {
     "name": "stderr",
     "output_type": "stream",
     "text": [
      "100%|███████████████████████████████████████████| 26/26 [16:44<00:00, 38.64s/it]\n",
      "100%|███████████████████████████████████████████| 26/26 [00:39<00:00,  1.52s/it]\n"
     ]
    },
    {
     "name": "stdout",
     "output_type": "stream",
     "text": [
      "Epoch 457\n"
     ]
    },
    {
     "name": "stderr",
     "output_type": "stream",
     "text": [
      "100%|███████████████████████████████████████████| 26/26 [16:41<00:00, 38.50s/it]\n",
      "100%|███████████████████████████████████████████| 26/26 [00:40<00:00,  1.54s/it]\n"
     ]
    },
    {
     "name": "stdout",
     "output_type": "stream",
     "text": [
      "Epoch 458\n"
     ]
    },
    {
     "name": "stderr",
     "output_type": "stream",
     "text": [
      "100%|███████████████████████████████████████████| 26/26 [16:45<00:00, 38.68s/it]\n",
      "100%|███████████████████████████████████████████| 26/26 [00:39<00:00,  1.53s/it]\n"
     ]
    },
    {
     "name": "stdout",
     "output_type": "stream",
     "text": [
      "Epoch 459\n"
     ]
    },
    {
     "name": "stderr",
     "output_type": "stream",
     "text": [
      "100%|███████████████████████████████████████████| 26/26 [16:37<00:00, 38.37s/it]\n",
      "100%|███████████████████████████████████████████| 26/26 [00:39<00:00,  1.54s/it]\n"
     ]
    },
    {
     "name": "stdout",
     "output_type": "stream",
     "text": [
      "Epoch 460\n"
     ]
    },
    {
     "name": "stderr",
     "output_type": "stream",
     "text": [
      "100%|███████████████████████████████████████████| 26/26 [16:45<00:00, 38.69s/it]\n",
      "100%|███████████████████████████████████████████| 26/26 [00:39<00:00,  1.53s/it]\n"
     ]
    },
    {
     "name": "stdout",
     "output_type": "stream",
     "text": [
      "Epoch 461\n"
     ]
    },
    {
     "name": "stderr",
     "output_type": "stream",
     "text": [
      "100%|███████████████████████████████████████████| 26/26 [16:45<00:00, 38.69s/it]\n",
      "100%|███████████████████████████████████████████| 26/26 [00:40<00:00,  1.55s/it]\n"
     ]
    },
    {
     "name": "stdout",
     "output_type": "stream",
     "text": [
      "Epoch 462\n"
     ]
    },
    {
     "name": "stderr",
     "output_type": "stream",
     "text": [
      "100%|███████████████████████████████████████████| 26/26 [16:38<00:00, 38.40s/it]\n",
      "100%|███████████████████████████████████████████| 26/26 [00:39<00:00,  1.54s/it]\n"
     ]
    },
    {
     "name": "stdout",
     "output_type": "stream",
     "text": [
      "Epoch 463\n"
     ]
    },
    {
     "name": "stderr",
     "output_type": "stream",
     "text": [
      "100%|███████████████████████████████████████████| 26/26 [16:40<00:00, 38.48s/it]\n",
      "100%|███████████████████████████████████████████| 26/26 [00:39<00:00,  1.54s/it]\n"
     ]
    },
    {
     "name": "stdout",
     "output_type": "stream",
     "text": [
      "Epoch 464\n"
     ]
    },
    {
     "name": "stderr",
     "output_type": "stream",
     "text": [
      "100%|███████████████████████████████████████████| 26/26 [16:45<00:00, 38.66s/it]\n",
      "100%|███████████████████████████████████████████| 26/26 [00:39<00:00,  1.54s/it]\n"
     ]
    },
    {
     "name": "stdout",
     "output_type": "stream",
     "text": [
      "Epoch 465\n"
     ]
    },
    {
     "name": "stderr",
     "output_type": "stream",
     "text": [
      "100%|███████████████████████████████████████████| 26/26 [16:49<00:00, 38.82s/it]\n",
      "100%|███████████████████████████████████████████| 26/26 [00:39<00:00,  1.54s/it]\n"
     ]
    },
    {
     "name": "stdout",
     "output_type": "stream",
     "text": [
      "Epoch 466\n"
     ]
    },
    {
     "name": "stderr",
     "output_type": "stream",
     "text": [
      "100%|███████████████████████████████████████████| 26/26 [16:51<00:00, 38.90s/it]\n",
      "100%|███████████████████████████████████████████| 26/26 [00:40<00:00,  1.54s/it]\n"
     ]
    },
    {
     "name": "stdout",
     "output_type": "stream",
     "text": [
      "Epoch 467\n"
     ]
    },
    {
     "name": "stderr",
     "output_type": "stream",
     "text": [
      "100%|███████████████████████████████████████████| 26/26 [16:37<00:00, 38.38s/it]\n",
      "100%|███████████████████████████████████████████| 26/26 [00:40<00:00,  1.54s/it]\n"
     ]
    },
    {
     "name": "stdout",
     "output_type": "stream",
     "text": [
      "Epoch 468\n"
     ]
    },
    {
     "name": "stderr",
     "output_type": "stream",
     "text": [
      "100%|███████████████████████████████████████████| 26/26 [16:47<00:00, 38.76s/it]\n",
      "100%|███████████████████████████████████████████| 26/26 [00:40<00:00,  1.54s/it]\n"
     ]
    },
    {
     "name": "stdout",
     "output_type": "stream",
     "text": [
      "Epoch 469\n"
     ]
    },
    {
     "name": "stderr",
     "output_type": "stream",
     "text": [
      "100%|███████████████████████████████████████████| 26/26 [16:56<00:00, 39.11s/it]\n",
      "100%|███████████████████████████████████████████| 26/26 [00:40<00:00,  1.54s/it]\n"
     ]
    },
    {
     "name": "stdout",
     "output_type": "stream",
     "text": [
      "Epoch 470\n"
     ]
    },
    {
     "name": "stderr",
     "output_type": "stream",
     "text": [
      "100%|███████████████████████████████████████████| 26/26 [16:57<00:00, 39.12s/it]\n",
      "100%|███████████████████████████████████████████| 26/26 [00:40<00:00,  1.54s/it]\n"
     ]
    },
    {
     "name": "stdout",
     "output_type": "stream",
     "text": [
      "Epoch 471\n"
     ]
    },
    {
     "name": "stderr",
     "output_type": "stream",
     "text": [
      "100%|███████████████████████████████████████████| 26/26 [16:44<00:00, 38.65s/it]\n",
      "100%|███████████████████████████████████████████| 26/26 [00:40<00:00,  1.56s/it]\n"
     ]
    },
    {
     "name": "stdout",
     "output_type": "stream",
     "text": [
      "Epoch 472\n"
     ]
    },
    {
     "name": "stderr",
     "output_type": "stream",
     "text": [
      "100%|███████████████████████████████████████████| 26/26 [16:46<00:00, 38.73s/it]\n",
      "100%|███████████████████████████████████████████| 26/26 [00:40<00:00,  1.54s/it]\n"
     ]
    },
    {
     "name": "stdout",
     "output_type": "stream",
     "text": [
      "Epoch 473\n"
     ]
    },
    {
     "name": "stderr",
     "output_type": "stream",
     "text": [
      "100%|███████████████████████████████████████████| 26/26 [16:54<00:00, 39.03s/it]\n",
      "100%|███████████████████████████████████████████| 26/26 [00:39<00:00,  1.54s/it]\n"
     ]
    },
    {
     "name": "stdout",
     "output_type": "stream",
     "text": [
      "Epoch 474\n"
     ]
    },
    {
     "name": "stderr",
     "output_type": "stream",
     "text": [
      "100%|███████████████████████████████████████████| 26/26 [16:56<00:00, 39.11s/it]\n",
      "100%|███████████████████████████████████████████| 26/26 [00:39<00:00,  1.54s/it]\n"
     ]
    },
    {
     "name": "stdout",
     "output_type": "stream",
     "text": [
      "Epoch 475\n"
     ]
    },
    {
     "name": "stderr",
     "output_type": "stream",
     "text": [
      "100%|███████████████████████████████████████████| 26/26 [16:50<00:00, 38.85s/it]\n",
      "100%|███████████████████████████████████████████| 26/26 [00:40<00:00,  1.55s/it]\n"
     ]
    },
    {
     "name": "stdout",
     "output_type": "stream",
     "text": [
      "Epoch 476\n"
     ]
    },
    {
     "name": "stderr",
     "output_type": "stream",
     "text": [
      "100%|███████████████████████████████████████████| 26/26 [16:44<00:00, 38.64s/it]\n",
      "100%|███████████████████████████████████████████| 26/26 [00:40<00:00,  1.55s/it]\n"
     ]
    },
    {
     "name": "stdout",
     "output_type": "stream",
     "text": [
      "Epoch 477\n"
     ]
    },
    {
     "name": "stderr",
     "output_type": "stream",
     "text": [
      "100%|███████████████████████████████████████████| 26/26 [16:50<00:00, 38.86s/it]\n",
      "100%|███████████████████████████████████████████| 26/26 [00:40<00:00,  1.55s/it]\n"
     ]
    },
    {
     "name": "stdout",
     "output_type": "stream",
     "text": [
      "Epoch 478\n"
     ]
    },
    {
     "name": "stderr",
     "output_type": "stream",
     "text": [
      "100%|███████████████████████████████████████████| 26/26 [16:58<00:00, 39.19s/it]\n",
      "100%|███████████████████████████████████████████| 26/26 [00:40<00:00,  1.55s/it]\n"
     ]
    },
    {
     "name": "stdout",
     "output_type": "stream",
     "text": [
      "Epoch 479\n"
     ]
    },
    {
     "name": "stderr",
     "output_type": "stream",
     "text": [
      "100%|███████████████████████████████████████████| 26/26 [16:56<00:00, 39.10s/it]\n",
      "100%|███████████████████████████████████████████| 26/26 [00:40<00:00,  1.56s/it]\n"
     ]
    },
    {
     "name": "stdout",
     "output_type": "stream",
     "text": [
      "Epoch 480\n"
     ]
    },
    {
     "name": "stderr",
     "output_type": "stream",
     "text": [
      "100%|███████████████████████████████████████████| 26/26 [16:48<00:00, 38.79s/it]\n",
      "100%|███████████████████████████████████████████| 26/26 [00:40<00:00,  1.55s/it]\n"
     ]
    },
    {
     "name": "stdout",
     "output_type": "stream",
     "text": [
      "Epoch 481\n"
     ]
    },
    {
     "name": "stderr",
     "output_type": "stream",
     "text": [
      "100%|███████████████████████████████████████████| 26/26 [16:49<00:00, 38.82s/it]\n",
      "100%|███████████████████████████████████████████| 26/26 [00:41<00:00,  1.58s/it]\n"
     ]
    },
    {
     "name": "stdout",
     "output_type": "stream",
     "text": [
      "Epoch 482\n"
     ]
    },
    {
     "name": "stderr",
     "output_type": "stream",
     "text": [
      "100%|███████████████████████████████████████████| 26/26 [16:58<00:00, 39.16s/it]\n",
      "100%|███████████████████████████████████████████| 26/26 [00:40<00:00,  1.56s/it]\n"
     ]
    },
    {
     "name": "stdout",
     "output_type": "stream",
     "text": [
      "Epoch 483\n"
     ]
    },
    {
     "name": "stderr",
     "output_type": "stream",
     "text": [
      "100%|███████████████████████████████████████████| 26/26 [17:05<00:00, 39.43s/it]\n",
      "100%|███████████████████████████████████████████| 26/26 [00:40<00:00,  1.55s/it]\n"
     ]
    },
    {
     "name": "stdout",
     "output_type": "stream",
     "text": [
      "Epoch 484\n"
     ]
    },
    {
     "name": "stderr",
     "output_type": "stream",
     "text": [
      "100%|███████████████████████████████████████████| 26/26 [17:45<00:00, 40.98s/it]\n",
      "100%|███████████████████████████████████████████| 26/26 [00:42<00:00,  1.64s/it]\n"
     ]
    },
    {
     "name": "stdout",
     "output_type": "stream",
     "text": [
      "Epoch 485\n"
     ]
    },
    {
     "name": "stderr",
     "output_type": "stream",
     "text": [
      "100%|███████████████████████████████████████████| 26/26 [18:27<00:00, 42.60s/it]\n",
      "100%|███████████████████████████████████████████| 26/26 [00:44<00:00,  1.71s/it]\n"
     ]
    },
    {
     "name": "stdout",
     "output_type": "stream",
     "text": [
      "Epoch 486\n"
     ]
    },
    {
     "name": "stderr",
     "output_type": "stream",
     "text": [
      "100%|███████████████████████████████████████████| 26/26 [18:39<00:00, 43.08s/it]\n",
      "100%|███████████████████████████████████████████| 26/26 [00:46<00:00,  1.77s/it]\n"
     ]
    },
    {
     "name": "stdout",
     "output_type": "stream",
     "text": [
      "Epoch 487\n"
     ]
    },
    {
     "name": "stderr",
     "output_type": "stream",
     "text": [
      "100%|███████████████████████████████████████████| 26/26 [19:01<00:00, 43.91s/it]\n",
      "100%|███████████████████████████████████████████| 26/26 [00:46<00:00,  1.77s/it]\n"
     ]
    },
    {
     "name": "stdout",
     "output_type": "stream",
     "text": [
      "Epoch 488\n"
     ]
    },
    {
     "name": "stderr",
     "output_type": "stream",
     "text": [
      "100%|███████████████████████████████████████████| 26/26 [19:10<00:00, 44.23s/it]\n",
      "100%|███████████████████████████████████████████| 26/26 [00:50<00:00,  1.94s/it]\n"
     ]
    },
    {
     "name": "stdout",
     "output_type": "stream",
     "text": [
      "Epoch 489\n"
     ]
    },
    {
     "name": "stderr",
     "output_type": "stream",
     "text": [
      "100%|███████████████████████████████████████████| 26/26 [19:16<00:00, 44.49s/it]\n",
      "100%|███████████████████████████████████████████| 26/26 [00:46<00:00,  1.79s/it]\n"
     ]
    },
    {
     "name": "stdout",
     "output_type": "stream",
     "text": [
      "Epoch 490\n"
     ]
    },
    {
     "name": "stderr",
     "output_type": "stream",
     "text": [
      "100%|███████████████████████████████████████████| 26/26 [19:26<00:00, 44.88s/it]\n",
      "100%|███████████████████████████████████████████| 26/26 [00:47<00:00,  1.81s/it]\n"
     ]
    },
    {
     "name": "stdout",
     "output_type": "stream",
     "text": [
      "Epoch 491\n"
     ]
    },
    {
     "name": "stderr",
     "output_type": "stream",
     "text": [
      "100%|███████████████████████████████████████████| 26/26 [19:26<00:00, 44.86s/it]\n",
      "100%|███████████████████████████████████████████| 26/26 [00:47<00:00,  1.81s/it]\n"
     ]
    },
    {
     "name": "stdout",
     "output_type": "stream",
     "text": [
      "Epoch 492\n"
     ]
    },
    {
     "name": "stderr",
     "output_type": "stream",
     "text": [
      "100%|███████████████████████████████████████████| 26/26 [23:57<00:00, 55.30s/it]\n",
      "100%|███████████████████████████████████████████| 26/26 [01:01<00:00,  2.36s/it]\n"
     ]
    },
    {
     "name": "stdout",
     "output_type": "stream",
     "text": [
      "Epoch 493\n"
     ]
    },
    {
     "name": "stderr",
     "output_type": "stream",
     "text": [
      "100%|███████████████████████████████████████████| 26/26 [27:18<00:00, 63.01s/it]\n",
      "100%|███████████████████████████████████████████| 26/26 [00:57<00:00,  2.22s/it]\n"
     ]
    },
    {
     "name": "stdout",
     "output_type": "stream",
     "text": [
      "Epoch 494\n"
     ]
    },
    {
     "name": "stderr",
     "output_type": "stream",
     "text": [
      "100%|███████████████████████████████████████████| 26/26 [25:17<00:00, 58.37s/it]\n",
      "100%|███████████████████████████████████████████| 26/26 [01:01<00:00,  2.35s/it]\n"
     ]
    },
    {
     "name": "stdout",
     "output_type": "stream",
     "text": [
      "Epoch 495\n"
     ]
    },
    {
     "name": "stderr",
     "output_type": "stream",
     "text": [
      "100%|███████████████████████████████████████████| 26/26 [26:12<00:00, 60.49s/it]\n",
      " 12%|█████                                       | 3/26 [00:08<01:05,  2.85s/it]\n"
     ]
    },
    {
     "ename": "KeyboardInterrupt",
     "evalue": "",
     "output_type": "error",
     "traceback": [
      "\u001b[0;31m---------------------------------------------------------------------------\u001b[0m",
      "\u001b[0;31mKeyboardInterrupt\u001b[0m                         Traceback (most recent call last)",
      "Input \u001b[0;32mIn [15]\u001b[0m, in \u001b[0;36m<cell line: 1>\u001b[0;34m()\u001b[0m\n\u001b[1;32m      4\u001b[0m     T\u001b[38;5;241m.\u001b[39msave(model\u001b[38;5;241m.\u001b[39mstate_dict(),\u001b[38;5;124mf\u001b[39m\u001b[38;5;124m'\u001b[39m\u001b[38;5;132;01m{\u001b[39;00mmodels\u001b[38;5;132;01m}\u001b[39;00m\u001b[38;5;124m/\u001b[39m\u001b[38;5;132;01m{\u001b[39;00mname\u001b[38;5;132;01m}\u001b[39;00m\u001b[38;5;124m.pth\u001b[39m\u001b[38;5;124m'\u001b[39m)\n\u001b[1;32m      6\u001b[0m train_test(model,opt,train_loaders,writer,epoch,\u001b[38;5;124m'\u001b[39m\u001b[38;5;124mtrain\u001b[39m\u001b[38;5;124m'\u001b[39m)\n\u001b[0;32m----> 7\u001b[0m \u001b[43mtrain_test\u001b[49m\u001b[43m(\u001b[49m\u001b[43mmodel\u001b[49m\u001b[43m,\u001b[49m\u001b[43mopt\u001b[49m\u001b[43m,\u001b[49m\u001b[43mtest_loaders\u001b[49m\u001b[43m,\u001b[49m\u001b[43mwriter\u001b[49m\u001b[43m,\u001b[49m\u001b[43mepoch\u001b[49m\u001b[43m,\u001b[49m\u001b[38;5;124;43m'\u001b[39;49m\u001b[38;5;124;43mtest\u001b[39;49m\u001b[38;5;124;43m'\u001b[39;49m\u001b[43m)\u001b[49m\n\u001b[1;32m      9\u001b[0m sample \u001b[38;5;241m=\u001b[39m G(z_sample,label)\n\u001b[1;32m     10\u001b[0m writer\u001b[38;5;241m.\u001b[39madd_images(\u001b[38;5;124m'\u001b[39m\u001b[38;5;124mImage_from_latent\u001b[39m\u001b[38;5;124m'\u001b[39m, sample, epoch)\n",
      "Input \u001b[0;32mIn [4]\u001b[0m, in \u001b[0;36mtrain_test\u001b[0;34m(model, opt, loaders, writer, epoch, mode)\u001b[0m\n\u001b[1;32m      8\u001b[0m x \u001b[38;5;241m=\u001b[39m x\u001b[38;5;241m.\u001b[39mto(device)\n\u001b[1;32m      9\u001b[0m y \u001b[38;5;241m=\u001b[39m y\u001b[38;5;241m.\u001b[39mto(device)\n\u001b[0;32m---> 11\u001b[0m ret \u001b[38;5;241m=\u001b[39m \u001b[43mmodel\u001b[49m\u001b[38;5;241;43m.\u001b[39;49m\u001b[43md_loss\u001b[49m\u001b[43m(\u001b[49m\u001b[43mx\u001b[49m\u001b[43m,\u001b[49m\u001b[43my\u001b[49m\u001b[43m)\u001b[49m\n\u001b[1;32m     12\u001b[0m d_loss \u001b[38;5;241m=\u001b[39m ret[\u001b[38;5;124m'\u001b[39m\u001b[38;5;124md_p\u001b[39m\u001b[38;5;124m'\u001b[39m] \u001b[38;5;241m-\u001b[39m ret[\u001b[38;5;124m'\u001b[39m\u001b[38;5;124md_r\u001b[39m\u001b[38;5;124m'\u001b[39m] \u001b[38;5;241m+\u001b[39m ret[\u001b[38;5;124m'\u001b[39m\u001b[38;5;124mGP\u001b[39m\u001b[38;5;124m'\u001b[39m] \u001b[38;5;241m+\u001b[39m ret[\u001b[38;5;124m'\u001b[39m\u001b[38;5;124md_tc\u001b[39m\u001b[38;5;124m'\u001b[39m]\n\u001b[1;32m     14\u001b[0m \u001b[38;5;28;01mif\u001b[39;00m mode \u001b[38;5;241m==\u001b[39m \u001b[38;5;124m'\u001b[39m\u001b[38;5;124mtrain\u001b[39m\u001b[38;5;124m'\u001b[39m:\n",
      "Input \u001b[0;32mIn [12]\u001b[0m, in \u001b[0;36mVAE_GAN.d_loss\u001b[0;34m(self, x, y)\u001b[0m\n\u001b[1;32m    150\u001b[0m d_p \u001b[38;5;241m=\u001b[39m \u001b[38;5;28mself\u001b[39m\u001b[38;5;241m.\u001b[39mD(x_p)\u001b[38;5;241m.\u001b[39mmean()\n\u001b[1;32m    151\u001b[0m d_r \u001b[38;5;241m=\u001b[39m \u001b[38;5;28mself\u001b[39m\u001b[38;5;241m.\u001b[39mD(x)\u001b[38;5;241m.\u001b[39mmean()\n\u001b[0;32m--> 152\u001b[0m GP \u001b[38;5;241m=\u001b[39m \u001b[38;5;28;43mself\u001b[39;49m\u001b[38;5;241;43m.\u001b[39;49m\u001b[43mcalc_gp\u001b[49m\u001b[43m(\u001b[49m\u001b[43mx\u001b[49m\u001b[43m,\u001b[49m\u001b[43mx_p\u001b[49m\u001b[43m)\u001b[49m\n\u001b[1;32m    153\u001b[0m d_tc \u001b[38;5;241m=\u001b[39m \u001b[38;5;28mself\u001b[39m\u001b[38;5;241m.\u001b[39mTC\u001b[38;5;241m.\u001b[39md_loss(z)\n\u001b[1;32m    154\u001b[0m \u001b[38;5;28;01mreturn\u001b[39;00m {\u001b[38;5;124m'\u001b[39m\u001b[38;5;124md_p\u001b[39m\u001b[38;5;124m'\u001b[39m:d_p,\u001b[38;5;124m'\u001b[39m\u001b[38;5;124md_r\u001b[39m\u001b[38;5;124m'\u001b[39m:d_r,\u001b[38;5;124m'\u001b[39m\u001b[38;5;124mGP\u001b[39m\u001b[38;5;124m'\u001b[39m:GP,\u001b[38;5;124m'\u001b[39m\u001b[38;5;124md_tc\u001b[39m\u001b[38;5;124m'\u001b[39m:d_tc}\n",
      "Input \u001b[0;32mIn [12]\u001b[0m, in \u001b[0;36mVAE_GAN.calc_gp\u001b[0;34m(self, x, x_p)\u001b[0m\n\u001b[1;32m    132\u001b[0m ip\u001b[38;5;241m.\u001b[39mrequires_grad \u001b[38;5;241m=\u001b[39m \u001b[38;5;28;01mTrue\u001b[39;00m\n\u001b[1;32m    134\u001b[0m prob_ip \u001b[38;5;241m=\u001b[39m \u001b[38;5;28mself\u001b[39m\u001b[38;5;241m.\u001b[39mD(ip)\n\u001b[0;32m--> 136\u001b[0m grad \u001b[38;5;241m=\u001b[39m \u001b[43mT\u001b[49m\u001b[38;5;241;43m.\u001b[39;49m\u001b[43mautograd\u001b[49m\u001b[38;5;241;43m.\u001b[39;49m\u001b[43mgrad\u001b[49m\u001b[43m(\u001b[49m\u001b[43moutputs\u001b[49m\u001b[38;5;241;43m=\u001b[39;49m\u001b[43mprob_ip\u001b[49m\u001b[43m,\u001b[49m\n\u001b[1;32m    137\u001b[0m \u001b[43m                       \u001b[49m\u001b[43minputs\u001b[49m\u001b[38;5;241;43m=\u001b[39;49m\u001b[43mip\u001b[49m\u001b[43m,\u001b[49m\n\u001b[1;32m    138\u001b[0m \u001b[43m                       \u001b[49m\u001b[43mgrad_outputs\u001b[49m\u001b[38;5;241;43m=\u001b[39;49m\u001b[43mT\u001b[49m\u001b[38;5;241;43m.\u001b[39;49m\u001b[43mones\u001b[49m\u001b[43m(\u001b[49m\n\u001b[1;32m    139\u001b[0m \u001b[43m                           \u001b[49m\u001b[43mprob_ip\u001b[49m\u001b[38;5;241;43m.\u001b[39;49m\u001b[43msize\u001b[49m\u001b[43m(\u001b[49m\u001b[43m)\u001b[49m\u001b[43m)\u001b[49m\u001b[43m,\u001b[49m\n\u001b[1;32m    140\u001b[0m \u001b[43m                       \u001b[49m\u001b[43mcreate_graph\u001b[49m\u001b[38;5;241;43m=\u001b[39;49m\u001b[38;5;28;43;01mTrue\u001b[39;49;00m\u001b[43m,\u001b[49m\n\u001b[1;32m    141\u001b[0m \u001b[43m                       \u001b[49m\u001b[43mretain_graph\u001b[49m\u001b[38;5;241;43m=\u001b[39;49m\u001b[38;5;28;43;01mTrue\u001b[39;49;00m\u001b[43m)\u001b[49m[\u001b[38;5;241m0\u001b[39m]\u001b[38;5;241m.\u001b[39mview(x\u001b[38;5;241m.\u001b[39mshape[\u001b[38;5;241m0\u001b[39m],\u001b[38;5;241m-\u001b[39m\u001b[38;5;241m1\u001b[39m)\n\u001b[1;32m    143\u001b[0m grad_norm \u001b[38;5;241m=\u001b[39m T\u001b[38;5;241m.\u001b[39msqrt(T\u001b[38;5;241m.\u001b[39msum(grad \u001b[38;5;241m*\u001b[39m\u001b[38;5;241m*\u001b[39m \u001b[38;5;241m2\u001b[39m, dim\u001b[38;5;241m=\u001b[39m\u001b[38;5;241m1\u001b[39m) \u001b[38;5;241m+\u001b[39m \u001b[38;5;241m1e-12\u001b[39m)\n\u001b[1;32m    144\u001b[0m \u001b[38;5;28;01mreturn\u001b[39;00m \u001b[38;5;28mself\u001b[39m\u001b[38;5;241m.\u001b[39mGP \u001b[38;5;241m*\u001b[39m ((grad_norm \u001b[38;5;241m-\u001b[39m \u001b[38;5;241m1\u001b[39m) \u001b[38;5;241m*\u001b[39m\u001b[38;5;241m*\u001b[39m \u001b[38;5;241m2\u001b[39m)\u001b[38;5;241m.\u001b[39mmean()\n",
      "File \u001b[0;32m~/opt/anaconda3/lib/python3.9/site-packages/torch/autograd/__init__.py:276\u001b[0m, in \u001b[0;36mgrad\u001b[0;34m(outputs, inputs, grad_outputs, retain_graph, create_graph, only_inputs, allow_unused, is_grads_batched)\u001b[0m\n\u001b[1;32m    274\u001b[0m     \u001b[38;5;28;01mreturn\u001b[39;00m _vmap_internals\u001b[38;5;241m.\u001b[39m_vmap(vjp, \u001b[38;5;241m0\u001b[39m, \u001b[38;5;241m0\u001b[39m, allow_none_pass_through\u001b[38;5;241m=\u001b[39m\u001b[38;5;28;01mTrue\u001b[39;00m)(grad_outputs_)\n\u001b[1;32m    275\u001b[0m \u001b[38;5;28;01melse\u001b[39;00m:\n\u001b[0;32m--> 276\u001b[0m     \u001b[38;5;28;01mreturn\u001b[39;00m \u001b[43mVariable\u001b[49m\u001b[38;5;241;43m.\u001b[39;49m\u001b[43m_execution_engine\u001b[49m\u001b[38;5;241;43m.\u001b[39;49m\u001b[43mrun_backward\u001b[49m\u001b[43m(\u001b[49m\u001b[43m  \u001b[49m\u001b[38;5;66;43;03m# Calls into the C++ engine to run the backward pass\u001b[39;49;00m\n\u001b[1;32m    277\u001b[0m \u001b[43m        \u001b[49m\u001b[43mt_outputs\u001b[49m\u001b[43m,\u001b[49m\u001b[43m \u001b[49m\u001b[43mgrad_outputs_\u001b[49m\u001b[43m,\u001b[49m\u001b[43m \u001b[49m\u001b[43mretain_graph\u001b[49m\u001b[43m,\u001b[49m\u001b[43m \u001b[49m\u001b[43mcreate_graph\u001b[49m\u001b[43m,\u001b[49m\u001b[43m \u001b[49m\u001b[43mt_inputs\u001b[49m\u001b[43m,\u001b[49m\n\u001b[1;32m    278\u001b[0m \u001b[43m        \u001b[49m\u001b[43mallow_unused\u001b[49m\u001b[43m,\u001b[49m\u001b[43m \u001b[49m\u001b[43maccumulate_grad\u001b[49m\u001b[38;5;241;43m=\u001b[39;49m\u001b[38;5;28;43;01mFalse\u001b[39;49;00m\u001b[43m)\u001b[49m\n",
      "\u001b[0;31mKeyboardInterrupt\u001b[0m: "
     ]
    }
   ],
   "source": [
    "\n",
    "\n",
    "for epoch in range(1+epochs, 3*epochs + 1):\n",
    "    print(f'Epoch {epoch}')\n",
    "    if epoch % 10 == 1:\n",
    "        T.save(model.state_dict(),f'{models}/{name}.pth')\n",
    "    \n",
    "    train_test(model,opt,train_loaders,writer,epoch,'train')\n",
    "    train_test(model,opt,test_loaders,writer,epoch,'test')\n",
    "    \n",
    "    sample = G(z_sample,label)\n",
    "    writer.add_images('Image_from_latent', sample, epoch)\n",
    "    \n",
    "writer.close()\n",
    "\n",
    "\n"
   ]
  }
 ],
 "metadata": {
  "accelerator": "GPU",
  "colab": {
   "provenance": []
  },
  "kernelspec": {
   "display_name": "Python 3 (ipykernel)",
   "language": "python",
   "name": "python3"
  },
  "language_info": {
   "codemirror_mode": {
    "name": "ipython",
    "version": 3
   },
   "file_extension": ".py",
   "mimetype": "text/x-python",
   "name": "python",
   "nbconvert_exporter": "python",
   "pygments_lexer": "ipython3",
   "version": "3.9.12"
  }
 },
 "nbformat": 4,
 "nbformat_minor": 5
}
